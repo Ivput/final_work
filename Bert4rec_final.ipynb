{
  "cells": [
    {
      "cell_type": "code",
      "execution_count": 1,
      "metadata": {
        "id": "LSnF7FP9wcZz"
      },
      "outputs": [],
      "source": [
        "import math\n",
        "import random\n",
        "import numpy as np\n",
        "import pandas as pd\n",
        "from tqdm import tqdm\n",
        "from collections import defaultdict\n",
        "import torch\n",
        "import torch.nn as nn\n",
        "import torch.nn.functional as F\n",
        "from torch.utils.data import Dataset, DataLoader\n",
        "\n",
        "import warnings\n",
        "warnings.filterwarnings(\"ignore\")"
      ]
    },
    {
      "cell_type": "code",
      "source": [
        "import matplotlib.pyplot as plt\n",
        "import seaborn as sns"
      ],
      "metadata": {
        "id": "hvFC39FpfQBD"
      },
      "execution_count": 2,
      "outputs": []
    },
    {
      "cell_type": "code",
      "execution_count": 3,
      "metadata": {
        "id": "fTdaB_eK_02U"
      },
      "outputs": [],
      "source": [
        "from sklearn.preprocessing import LabelEncoder"
      ]
    },
    {
      "cell_type": "code",
      "execution_count": 4,
      "metadata": {
        "colab": {
          "base_uri": "https://localhost:8080/"
        },
        "id": "NPh2a9hI_DjT",
        "outputId": "1e5cb1d7-30ac-4a35-89f1-ed2ecda0d244"
      },
      "outputs": [
        {
          "output_type": "stream",
          "name": "stdout",
          "text": [
            "Mounted at /content/drive\n"
          ]
        }
      ],
      "source": [
        "# загрузим датасет со своего Google Drive\n",
        "from google.colab import drive\n",
        "\n",
        "drive.mount(\"/content/drive\")"
      ]
    },
    {
      "cell_type": "code",
      "execution_count": 5,
      "metadata": {
        "id": "DHmenDYG_ERt"
      },
      "outputs": [],
      "source": [
        "books = pd.read_csv('drive/MyDrive/Netology/Books.csv')\n",
        "ratings = pd.read_csv('drive/MyDrive/Netology/Ratings.csv')"
      ]
    },
    {
      "cell_type": "code",
      "execution_count": 6,
      "metadata": {
        "id": "4gUkAKih_KsW"
      },
      "outputs": [],
      "source": [
        "books_with_ratings = books.merge(ratings, on='ISBN').reset_index(drop=True)\n",
        "books_with_ratings.dropna(inplace=True)"
      ]
    },
    {
      "cell_type": "code",
      "execution_count": 7,
      "metadata": {
        "id": "lt0YDYX0_Qv0"
      },
      "outputs": [],
      "source": [
        "df = books_with_ratings[['ISBN','Book-Title', 'Book-Author', 'User-ID', 'Book-Rating']]\n",
        "df.rename(columns={'ISBN':'isbn','Book-Title': 'title','Book-Author': 'author', 'User-ID': 'user','Book-Rating':'rating'}, inplace=True)"
      ]
    },
    {
      "cell_type": "code",
      "execution_count": 8,
      "metadata": {
        "id": "HBr2C9_6_hKx"
      },
      "outputs": [],
      "source": [
        "df1 = df[df['rating'] >= 5]"
      ]
    },
    {
      "cell_type": "code",
      "execution_count": 9,
      "metadata": {
        "colab": {
          "base_uri": "https://localhost:8080/"
        },
        "id": "Ju0iq54N-Wbn",
        "outputId": "34760b14-723f-431f-ecdd-779fbd01362b"
      },
      "outputs": [
        {
          "output_type": "execute_result",
          "data": {
            "text/plain": [
              "(367246, 5)"
            ]
          },
          "metadata": {},
          "execution_count": 9
        }
      ],
      "source": [
        "df1.shape"
      ]
    },
    {
      "cell_type": "code",
      "execution_count": 10,
      "metadata": {
        "id": "31NwDfxz_noR"
      },
      "outputs": [],
      "source": [
        "df1['combined'] = df1[['title','author']].apply(lambda row: '_'.join(row.values.astype(str)), axis=1)"
      ]
    },
    {
      "cell_type": "code",
      "execution_count": 11,
      "metadata": {
        "id": "jV2RsWR2_sS1"
      },
      "outputs": [],
      "source": [
        "lf = LabelEncoder()\n",
        "df1['book_id'] = lf.fit_transform(df1['combined'])\n",
        "df1['user_id'] = lf.fit_transform(df1['user'])"
      ]
    },
    {
      "cell_type": "code",
      "execution_count": 12,
      "metadata": {
        "colab": {
          "base_uri": "https://localhost:8080/",
          "height": 204
        },
        "id": "aa9s8mHO5SGO",
        "outputId": "b970df11-21ed-4080-c4b6-ecb198efc0ab"
      },
      "outputs": [
        {
          "output_type": "execute_result",
          "data": {
            "text/plain": [
              "         isbn         title                author    user  rating  \\\n",
              "1  0002005018  Clara Callan  Richard Bruce Wright       8       5   \n",
              "3  0002005018  Clara Callan  Richard Bruce Wright   11676       8   \n",
              "5  0002005018  Clara Callan  Richard Bruce Wright   67544       8   \n",
              "8  0002005018  Clara Callan  Richard Bruce Wright  116866       9   \n",
              "9  0002005018  Clara Callan  Richard Bruce Wright  123629       9   \n",
              "\n",
              "                            combined  book_id  user_id  \n",
              "1  Clara Callan_Richard Bruce Wright    20302        0  \n",
              "3  Clara Callan_Richard Bruce Wright    20302     2618  \n",
              "5  Clara Callan_Richard Bruce Wright    20302    16078  \n",
              "8  Clara Callan_Richard Bruce Wright    20302    27729  \n",
              "9  Clara Callan_Richard Bruce Wright    20302    29305  "
            ],
            "text/html": [
              "\n",
              "  <div id=\"df-f05a4143-bbd0-4c6c-ab36-5f7804791e0f\" class=\"colab-df-container\">\n",
              "    <div>\n",
              "<style scoped>\n",
              "    .dataframe tbody tr th:only-of-type {\n",
              "        vertical-align: middle;\n",
              "    }\n",
              "\n",
              "    .dataframe tbody tr th {\n",
              "        vertical-align: top;\n",
              "    }\n",
              "\n",
              "    .dataframe thead th {\n",
              "        text-align: right;\n",
              "    }\n",
              "</style>\n",
              "<table border=\"1\" class=\"dataframe\">\n",
              "  <thead>\n",
              "    <tr style=\"text-align: right;\">\n",
              "      <th></th>\n",
              "      <th>isbn</th>\n",
              "      <th>title</th>\n",
              "      <th>author</th>\n",
              "      <th>user</th>\n",
              "      <th>rating</th>\n",
              "      <th>combined</th>\n",
              "      <th>book_id</th>\n",
              "      <th>user_id</th>\n",
              "    </tr>\n",
              "  </thead>\n",
              "  <tbody>\n",
              "    <tr>\n",
              "      <th>1</th>\n",
              "      <td>0002005018</td>\n",
              "      <td>Clara Callan</td>\n",
              "      <td>Richard Bruce Wright</td>\n",
              "      <td>8</td>\n",
              "      <td>5</td>\n",
              "      <td>Clara Callan_Richard Bruce Wright</td>\n",
              "      <td>20302</td>\n",
              "      <td>0</td>\n",
              "    </tr>\n",
              "    <tr>\n",
              "      <th>3</th>\n",
              "      <td>0002005018</td>\n",
              "      <td>Clara Callan</td>\n",
              "      <td>Richard Bruce Wright</td>\n",
              "      <td>11676</td>\n",
              "      <td>8</td>\n",
              "      <td>Clara Callan_Richard Bruce Wright</td>\n",
              "      <td>20302</td>\n",
              "      <td>2618</td>\n",
              "    </tr>\n",
              "    <tr>\n",
              "      <th>5</th>\n",
              "      <td>0002005018</td>\n",
              "      <td>Clara Callan</td>\n",
              "      <td>Richard Bruce Wright</td>\n",
              "      <td>67544</td>\n",
              "      <td>8</td>\n",
              "      <td>Clara Callan_Richard Bruce Wright</td>\n",
              "      <td>20302</td>\n",
              "      <td>16078</td>\n",
              "    </tr>\n",
              "    <tr>\n",
              "      <th>8</th>\n",
              "      <td>0002005018</td>\n",
              "      <td>Clara Callan</td>\n",
              "      <td>Richard Bruce Wright</td>\n",
              "      <td>116866</td>\n",
              "      <td>9</td>\n",
              "      <td>Clara Callan_Richard Bruce Wright</td>\n",
              "      <td>20302</td>\n",
              "      <td>27729</td>\n",
              "    </tr>\n",
              "    <tr>\n",
              "      <th>9</th>\n",
              "      <td>0002005018</td>\n",
              "      <td>Clara Callan</td>\n",
              "      <td>Richard Bruce Wright</td>\n",
              "      <td>123629</td>\n",
              "      <td>9</td>\n",
              "      <td>Clara Callan_Richard Bruce Wright</td>\n",
              "      <td>20302</td>\n",
              "      <td>29305</td>\n",
              "    </tr>\n",
              "  </tbody>\n",
              "</table>\n",
              "</div>\n",
              "    <div class=\"colab-df-buttons\">\n",
              "\n",
              "  <div class=\"colab-df-container\">\n",
              "    <button class=\"colab-df-convert\" onclick=\"convertToInteractive('df-f05a4143-bbd0-4c6c-ab36-5f7804791e0f')\"\n",
              "            title=\"Convert this dataframe to an interactive table.\"\n",
              "            style=\"display:none;\">\n",
              "\n",
              "  <svg xmlns=\"http://www.w3.org/2000/svg\" height=\"24px\" viewBox=\"0 -960 960 960\">\n",
              "    <path d=\"M120-120v-720h720v720H120Zm60-500h600v-160H180v160Zm220 220h160v-160H400v160Zm0 220h160v-160H400v160ZM180-400h160v-160H180v160Zm440 0h160v-160H620v160ZM180-180h160v-160H180v160Zm440 0h160v-160H620v160Z\"/>\n",
              "  </svg>\n",
              "    </button>\n",
              "\n",
              "  <style>\n",
              "    .colab-df-container {\n",
              "      display:flex;\n",
              "      gap: 12px;\n",
              "    }\n",
              "\n",
              "    .colab-df-convert {\n",
              "      background-color: #E8F0FE;\n",
              "      border: none;\n",
              "      border-radius: 50%;\n",
              "      cursor: pointer;\n",
              "      display: none;\n",
              "      fill: #1967D2;\n",
              "      height: 32px;\n",
              "      padding: 0 0 0 0;\n",
              "      width: 32px;\n",
              "    }\n",
              "\n",
              "    .colab-df-convert:hover {\n",
              "      background-color: #E2EBFA;\n",
              "      box-shadow: 0px 1px 2px rgba(60, 64, 67, 0.3), 0px 1px 3px 1px rgba(60, 64, 67, 0.15);\n",
              "      fill: #174EA6;\n",
              "    }\n",
              "\n",
              "    .colab-df-buttons div {\n",
              "      margin-bottom: 4px;\n",
              "    }\n",
              "\n",
              "    [theme=dark] .colab-df-convert {\n",
              "      background-color: #3B4455;\n",
              "      fill: #D2E3FC;\n",
              "    }\n",
              "\n",
              "    [theme=dark] .colab-df-convert:hover {\n",
              "      background-color: #434B5C;\n",
              "      box-shadow: 0px 1px 3px 1px rgba(0, 0, 0, 0.15);\n",
              "      filter: drop-shadow(0px 1px 2px rgba(0, 0, 0, 0.3));\n",
              "      fill: #FFFFFF;\n",
              "    }\n",
              "  </style>\n",
              "\n",
              "    <script>\n",
              "      const buttonEl =\n",
              "        document.querySelector('#df-f05a4143-bbd0-4c6c-ab36-5f7804791e0f button.colab-df-convert');\n",
              "      buttonEl.style.display =\n",
              "        google.colab.kernel.accessAllowed ? 'block' : 'none';\n",
              "\n",
              "      async function convertToInteractive(key) {\n",
              "        const element = document.querySelector('#df-f05a4143-bbd0-4c6c-ab36-5f7804791e0f');\n",
              "        const dataTable =\n",
              "          await google.colab.kernel.invokeFunction('convertToInteractive',\n",
              "                                                    [key], {});\n",
              "        if (!dataTable) return;\n",
              "\n",
              "        const docLinkHtml = 'Like what you see? Visit the ' +\n",
              "          '<a target=\"_blank\" href=https://colab.research.google.com/notebooks/data_table.ipynb>data table notebook</a>'\n",
              "          + ' to learn more about interactive tables.';\n",
              "        element.innerHTML = '';\n",
              "        dataTable['output_type'] = 'display_data';\n",
              "        await google.colab.output.renderOutput(dataTable, element);\n",
              "        const docLink = document.createElement('div');\n",
              "        docLink.innerHTML = docLinkHtml;\n",
              "        element.appendChild(docLink);\n",
              "      }\n",
              "    </script>\n",
              "  </div>\n",
              "\n",
              "\n",
              "<div id=\"df-1b1fb9c2-af04-4828-b242-39ff3b31ef6c\">\n",
              "  <button class=\"colab-df-quickchart\" onclick=\"quickchart('df-1b1fb9c2-af04-4828-b242-39ff3b31ef6c')\"\n",
              "            title=\"Suggest charts\"\n",
              "            style=\"display:none;\">\n",
              "\n",
              "<svg xmlns=\"http://www.w3.org/2000/svg\" height=\"24px\"viewBox=\"0 0 24 24\"\n",
              "     width=\"24px\">\n",
              "    <g>\n",
              "        <path d=\"M19 3H5c-1.1 0-2 .9-2 2v14c0 1.1.9 2 2 2h14c1.1 0 2-.9 2-2V5c0-1.1-.9-2-2-2zM9 17H7v-7h2v7zm4 0h-2V7h2v10zm4 0h-2v-4h2v4z\"/>\n",
              "    </g>\n",
              "</svg>\n",
              "  </button>\n",
              "\n",
              "<style>\n",
              "  .colab-df-quickchart {\n",
              "      --bg-color: #E8F0FE;\n",
              "      --fill-color: #1967D2;\n",
              "      --hover-bg-color: #E2EBFA;\n",
              "      --hover-fill-color: #174EA6;\n",
              "      --disabled-fill-color: #AAA;\n",
              "      --disabled-bg-color: #DDD;\n",
              "  }\n",
              "\n",
              "  [theme=dark] .colab-df-quickchart {\n",
              "      --bg-color: #3B4455;\n",
              "      --fill-color: #D2E3FC;\n",
              "      --hover-bg-color: #434B5C;\n",
              "      --hover-fill-color: #FFFFFF;\n",
              "      --disabled-bg-color: #3B4455;\n",
              "      --disabled-fill-color: #666;\n",
              "  }\n",
              "\n",
              "  .colab-df-quickchart {\n",
              "    background-color: var(--bg-color);\n",
              "    border: none;\n",
              "    border-radius: 50%;\n",
              "    cursor: pointer;\n",
              "    display: none;\n",
              "    fill: var(--fill-color);\n",
              "    height: 32px;\n",
              "    padding: 0;\n",
              "    width: 32px;\n",
              "  }\n",
              "\n",
              "  .colab-df-quickchart:hover {\n",
              "    background-color: var(--hover-bg-color);\n",
              "    box-shadow: 0 1px 2px rgba(60, 64, 67, 0.3), 0 1px 3px 1px rgba(60, 64, 67, 0.15);\n",
              "    fill: var(--button-hover-fill-color);\n",
              "  }\n",
              "\n",
              "  .colab-df-quickchart-complete:disabled,\n",
              "  .colab-df-quickchart-complete:disabled:hover {\n",
              "    background-color: var(--disabled-bg-color);\n",
              "    fill: var(--disabled-fill-color);\n",
              "    box-shadow: none;\n",
              "  }\n",
              "\n",
              "  .colab-df-spinner {\n",
              "    border: 2px solid var(--fill-color);\n",
              "    border-color: transparent;\n",
              "    border-bottom-color: var(--fill-color);\n",
              "    animation:\n",
              "      spin 1s steps(1) infinite;\n",
              "  }\n",
              "\n",
              "  @keyframes spin {\n",
              "    0% {\n",
              "      border-color: transparent;\n",
              "      border-bottom-color: var(--fill-color);\n",
              "      border-left-color: var(--fill-color);\n",
              "    }\n",
              "    20% {\n",
              "      border-color: transparent;\n",
              "      border-left-color: var(--fill-color);\n",
              "      border-top-color: var(--fill-color);\n",
              "    }\n",
              "    30% {\n",
              "      border-color: transparent;\n",
              "      border-left-color: var(--fill-color);\n",
              "      border-top-color: var(--fill-color);\n",
              "      border-right-color: var(--fill-color);\n",
              "    }\n",
              "    40% {\n",
              "      border-color: transparent;\n",
              "      border-right-color: var(--fill-color);\n",
              "      border-top-color: var(--fill-color);\n",
              "    }\n",
              "    60% {\n",
              "      border-color: transparent;\n",
              "      border-right-color: var(--fill-color);\n",
              "    }\n",
              "    80% {\n",
              "      border-color: transparent;\n",
              "      border-right-color: var(--fill-color);\n",
              "      border-bottom-color: var(--fill-color);\n",
              "    }\n",
              "    90% {\n",
              "      border-color: transparent;\n",
              "      border-bottom-color: var(--fill-color);\n",
              "    }\n",
              "  }\n",
              "</style>\n",
              "\n",
              "  <script>\n",
              "    async function quickchart(key) {\n",
              "      const quickchartButtonEl =\n",
              "        document.querySelector('#' + key + ' button');\n",
              "      quickchartButtonEl.disabled = true;  // To prevent multiple clicks.\n",
              "      quickchartButtonEl.classList.add('colab-df-spinner');\n",
              "      try {\n",
              "        const charts = await google.colab.kernel.invokeFunction(\n",
              "            'suggestCharts', [key], {});\n",
              "      } catch (error) {\n",
              "        console.error('Error during call to suggestCharts:', error);\n",
              "      }\n",
              "      quickchartButtonEl.classList.remove('colab-df-spinner');\n",
              "      quickchartButtonEl.classList.add('colab-df-quickchart-complete');\n",
              "    }\n",
              "    (() => {\n",
              "      let quickchartButtonEl =\n",
              "        document.querySelector('#df-1b1fb9c2-af04-4828-b242-39ff3b31ef6c button');\n",
              "      quickchartButtonEl.style.display =\n",
              "        google.colab.kernel.accessAllowed ? 'block' : 'none';\n",
              "    })();\n",
              "  </script>\n",
              "</div>\n",
              "    </div>\n",
              "  </div>\n"
            ],
            "application/vnd.google.colaboratory.intrinsic+json": {
              "type": "dataframe",
              "variable_name": "df1"
            }
          },
          "metadata": {},
          "execution_count": 12
        }
      ],
      "source": [
        "df1.head()"
      ]
    },
    {
      "cell_type": "code",
      "execution_count": 13,
      "metadata": {
        "id": "75jD2NTi_LOZ"
      },
      "outputs": [],
      "source": [
        "book_rating_count = df1.groupby('book_id')['rating'].count()\n",
        "books_10 = book_rating_count[book_rating_count > 10].index\n",
        "df2 = df1[df1['book_id'].isin(books_10)]"
      ]
    },
    {
      "cell_type": "code",
      "execution_count": 14,
      "metadata": {
        "id": "1W725xby5YcN"
      },
      "outputs": [],
      "source": [
        "user_rating_count = df2.groupby('user_id')['rating'].count()\n",
        "users_10 = user_rating_count[user_rating_count > 10].index\n",
        "df2 = df2[df2['user_id'].isin(users_10)]\n",
        "df2 = df2[['book_id', 'user_id']]"
      ]
    },
    {
      "cell_type": "code",
      "execution_count": 15,
      "metadata": {
        "colab": {
          "base_uri": "https://localhost:8080/",
          "height": 204
        },
        "id": "B4_MKLqoAJ5S",
        "outputId": "6ca2dee2-bcba-486d-82c7-3fa5f112cbee"
      },
      "outputs": [
        {
          "output_type": "execute_result",
          "data": {
            "text/plain": [
              "    book_id  user_id\n",
              "31   108589     2618\n",
              "32   108589     6822\n",
              "34   108589    11051\n",
              "42   108589    35313\n",
              "54   108589    54367"
            ],
            "text/html": [
              "\n",
              "  <div id=\"df-f3bdba3f-891d-444a-babc-df23c44186b7\" class=\"colab-df-container\">\n",
              "    <div>\n",
              "<style scoped>\n",
              "    .dataframe tbody tr th:only-of-type {\n",
              "        vertical-align: middle;\n",
              "    }\n",
              "\n",
              "    .dataframe tbody tr th {\n",
              "        vertical-align: top;\n",
              "    }\n",
              "\n",
              "    .dataframe thead th {\n",
              "        text-align: right;\n",
              "    }\n",
              "</style>\n",
              "<table border=\"1\" class=\"dataframe\">\n",
              "  <thead>\n",
              "    <tr style=\"text-align: right;\">\n",
              "      <th></th>\n",
              "      <th>book_id</th>\n",
              "      <th>user_id</th>\n",
              "    </tr>\n",
              "  </thead>\n",
              "  <tbody>\n",
              "    <tr>\n",
              "      <th>31</th>\n",
              "      <td>108589</td>\n",
              "      <td>2618</td>\n",
              "    </tr>\n",
              "    <tr>\n",
              "      <th>32</th>\n",
              "      <td>108589</td>\n",
              "      <td>6822</td>\n",
              "    </tr>\n",
              "    <tr>\n",
              "      <th>34</th>\n",
              "      <td>108589</td>\n",
              "      <td>11051</td>\n",
              "    </tr>\n",
              "    <tr>\n",
              "      <th>42</th>\n",
              "      <td>108589</td>\n",
              "      <td>35313</td>\n",
              "    </tr>\n",
              "    <tr>\n",
              "      <th>54</th>\n",
              "      <td>108589</td>\n",
              "      <td>54367</td>\n",
              "    </tr>\n",
              "  </tbody>\n",
              "</table>\n",
              "</div>\n",
              "    <div class=\"colab-df-buttons\">\n",
              "\n",
              "  <div class=\"colab-df-container\">\n",
              "    <button class=\"colab-df-convert\" onclick=\"convertToInteractive('df-f3bdba3f-891d-444a-babc-df23c44186b7')\"\n",
              "            title=\"Convert this dataframe to an interactive table.\"\n",
              "            style=\"display:none;\">\n",
              "\n",
              "  <svg xmlns=\"http://www.w3.org/2000/svg\" height=\"24px\" viewBox=\"0 -960 960 960\">\n",
              "    <path d=\"M120-120v-720h720v720H120Zm60-500h600v-160H180v160Zm220 220h160v-160H400v160Zm0 220h160v-160H400v160ZM180-400h160v-160H180v160Zm440 0h160v-160H620v160ZM180-180h160v-160H180v160Zm440 0h160v-160H620v160Z\"/>\n",
              "  </svg>\n",
              "    </button>\n",
              "\n",
              "  <style>\n",
              "    .colab-df-container {\n",
              "      display:flex;\n",
              "      gap: 12px;\n",
              "    }\n",
              "\n",
              "    .colab-df-convert {\n",
              "      background-color: #E8F0FE;\n",
              "      border: none;\n",
              "      border-radius: 50%;\n",
              "      cursor: pointer;\n",
              "      display: none;\n",
              "      fill: #1967D2;\n",
              "      height: 32px;\n",
              "      padding: 0 0 0 0;\n",
              "      width: 32px;\n",
              "    }\n",
              "\n",
              "    .colab-df-convert:hover {\n",
              "      background-color: #E2EBFA;\n",
              "      box-shadow: 0px 1px 2px rgba(60, 64, 67, 0.3), 0px 1px 3px 1px rgba(60, 64, 67, 0.15);\n",
              "      fill: #174EA6;\n",
              "    }\n",
              "\n",
              "    .colab-df-buttons div {\n",
              "      margin-bottom: 4px;\n",
              "    }\n",
              "\n",
              "    [theme=dark] .colab-df-convert {\n",
              "      background-color: #3B4455;\n",
              "      fill: #D2E3FC;\n",
              "    }\n",
              "\n",
              "    [theme=dark] .colab-df-convert:hover {\n",
              "      background-color: #434B5C;\n",
              "      box-shadow: 0px 1px 3px 1px rgba(0, 0, 0, 0.15);\n",
              "      filter: drop-shadow(0px 1px 2px rgba(0, 0, 0, 0.3));\n",
              "      fill: #FFFFFF;\n",
              "    }\n",
              "  </style>\n",
              "\n",
              "    <script>\n",
              "      const buttonEl =\n",
              "        document.querySelector('#df-f3bdba3f-891d-444a-babc-df23c44186b7 button.colab-df-convert');\n",
              "      buttonEl.style.display =\n",
              "        google.colab.kernel.accessAllowed ? 'block' : 'none';\n",
              "\n",
              "      async function convertToInteractive(key) {\n",
              "        const element = document.querySelector('#df-f3bdba3f-891d-444a-babc-df23c44186b7');\n",
              "        const dataTable =\n",
              "          await google.colab.kernel.invokeFunction('convertToInteractive',\n",
              "                                                    [key], {});\n",
              "        if (!dataTable) return;\n",
              "\n",
              "        const docLinkHtml = 'Like what you see? Visit the ' +\n",
              "          '<a target=\"_blank\" href=https://colab.research.google.com/notebooks/data_table.ipynb>data table notebook</a>'\n",
              "          + ' to learn more about interactive tables.';\n",
              "        element.innerHTML = '';\n",
              "        dataTable['output_type'] = 'display_data';\n",
              "        await google.colab.output.renderOutput(dataTable, element);\n",
              "        const docLink = document.createElement('div');\n",
              "        docLink.innerHTML = docLinkHtml;\n",
              "        element.appendChild(docLink);\n",
              "      }\n",
              "    </script>\n",
              "  </div>\n",
              "\n",
              "\n",
              "<div id=\"df-3e02bc0a-2db0-4f38-9a0f-ebe4f431a89d\">\n",
              "  <button class=\"colab-df-quickchart\" onclick=\"quickchart('df-3e02bc0a-2db0-4f38-9a0f-ebe4f431a89d')\"\n",
              "            title=\"Suggest charts\"\n",
              "            style=\"display:none;\">\n",
              "\n",
              "<svg xmlns=\"http://www.w3.org/2000/svg\" height=\"24px\"viewBox=\"0 0 24 24\"\n",
              "     width=\"24px\">\n",
              "    <g>\n",
              "        <path d=\"M19 3H5c-1.1 0-2 .9-2 2v14c0 1.1.9 2 2 2h14c1.1 0 2-.9 2-2V5c0-1.1-.9-2-2-2zM9 17H7v-7h2v7zm4 0h-2V7h2v10zm4 0h-2v-4h2v4z\"/>\n",
              "    </g>\n",
              "</svg>\n",
              "  </button>\n",
              "\n",
              "<style>\n",
              "  .colab-df-quickchart {\n",
              "      --bg-color: #E8F0FE;\n",
              "      --fill-color: #1967D2;\n",
              "      --hover-bg-color: #E2EBFA;\n",
              "      --hover-fill-color: #174EA6;\n",
              "      --disabled-fill-color: #AAA;\n",
              "      --disabled-bg-color: #DDD;\n",
              "  }\n",
              "\n",
              "  [theme=dark] .colab-df-quickchart {\n",
              "      --bg-color: #3B4455;\n",
              "      --fill-color: #D2E3FC;\n",
              "      --hover-bg-color: #434B5C;\n",
              "      --hover-fill-color: #FFFFFF;\n",
              "      --disabled-bg-color: #3B4455;\n",
              "      --disabled-fill-color: #666;\n",
              "  }\n",
              "\n",
              "  .colab-df-quickchart {\n",
              "    background-color: var(--bg-color);\n",
              "    border: none;\n",
              "    border-radius: 50%;\n",
              "    cursor: pointer;\n",
              "    display: none;\n",
              "    fill: var(--fill-color);\n",
              "    height: 32px;\n",
              "    padding: 0;\n",
              "    width: 32px;\n",
              "  }\n",
              "\n",
              "  .colab-df-quickchart:hover {\n",
              "    background-color: var(--hover-bg-color);\n",
              "    box-shadow: 0 1px 2px rgba(60, 64, 67, 0.3), 0 1px 3px 1px rgba(60, 64, 67, 0.15);\n",
              "    fill: var(--button-hover-fill-color);\n",
              "  }\n",
              "\n",
              "  .colab-df-quickchart-complete:disabled,\n",
              "  .colab-df-quickchart-complete:disabled:hover {\n",
              "    background-color: var(--disabled-bg-color);\n",
              "    fill: var(--disabled-fill-color);\n",
              "    box-shadow: none;\n",
              "  }\n",
              "\n",
              "  .colab-df-spinner {\n",
              "    border: 2px solid var(--fill-color);\n",
              "    border-color: transparent;\n",
              "    border-bottom-color: var(--fill-color);\n",
              "    animation:\n",
              "      spin 1s steps(1) infinite;\n",
              "  }\n",
              "\n",
              "  @keyframes spin {\n",
              "    0% {\n",
              "      border-color: transparent;\n",
              "      border-bottom-color: var(--fill-color);\n",
              "      border-left-color: var(--fill-color);\n",
              "    }\n",
              "    20% {\n",
              "      border-color: transparent;\n",
              "      border-left-color: var(--fill-color);\n",
              "      border-top-color: var(--fill-color);\n",
              "    }\n",
              "    30% {\n",
              "      border-color: transparent;\n",
              "      border-left-color: var(--fill-color);\n",
              "      border-top-color: var(--fill-color);\n",
              "      border-right-color: var(--fill-color);\n",
              "    }\n",
              "    40% {\n",
              "      border-color: transparent;\n",
              "      border-right-color: var(--fill-color);\n",
              "      border-top-color: var(--fill-color);\n",
              "    }\n",
              "    60% {\n",
              "      border-color: transparent;\n",
              "      border-right-color: var(--fill-color);\n",
              "    }\n",
              "    80% {\n",
              "      border-color: transparent;\n",
              "      border-right-color: var(--fill-color);\n",
              "      border-bottom-color: var(--fill-color);\n",
              "    }\n",
              "    90% {\n",
              "      border-color: transparent;\n",
              "      border-bottom-color: var(--fill-color);\n",
              "    }\n",
              "  }\n",
              "</style>\n",
              "\n",
              "  <script>\n",
              "    async function quickchart(key) {\n",
              "      const quickchartButtonEl =\n",
              "        document.querySelector('#' + key + ' button');\n",
              "      quickchartButtonEl.disabled = true;  // To prevent multiple clicks.\n",
              "      quickchartButtonEl.classList.add('colab-df-spinner');\n",
              "      try {\n",
              "        const charts = await google.colab.kernel.invokeFunction(\n",
              "            'suggestCharts', [key], {});\n",
              "      } catch (error) {\n",
              "        console.error('Error during call to suggestCharts:', error);\n",
              "      }\n",
              "      quickchartButtonEl.classList.remove('colab-df-spinner');\n",
              "      quickchartButtonEl.classList.add('colab-df-quickchart-complete');\n",
              "    }\n",
              "    (() => {\n",
              "      let quickchartButtonEl =\n",
              "        document.querySelector('#df-3e02bc0a-2db0-4f38-9a0f-ebe4f431a89d button');\n",
              "      quickchartButtonEl.style.display =\n",
              "        google.colab.kernel.accessAllowed ? 'block' : 'none';\n",
              "    })();\n",
              "  </script>\n",
              "</div>\n",
              "    </div>\n",
              "  </div>\n"
            ],
            "application/vnd.google.colaboratory.intrinsic+json": {
              "type": "dataframe",
              "variable_name": "df2",
              "summary": "{\n  \"name\": \"df2\",\n  \"rows\": 67641,\n  \"fields\": [\n    {\n      \"column\": \"book_id\",\n      \"properties\": {\n        \"dtype\": \"number\",\n        \"std\": 39616,\n        \"min\": 45,\n        \"max\": 135231,\n        \"num_unique_values\": 4690,\n        \"samples\": [\n          77427,\n          40646,\n          95515\n        ],\n        \"semantic_type\": \"\",\n        \"description\": \"\"\n      }\n    },\n    {\n      \"column\": \"user_id\",\n      \"properties\": {\n        \"dtype\": \"number\",\n        \"std\": 19071,\n        \"min\": 59,\n        \"max\": 65851,\n        \"num_unique_values\": 2380,\n        \"samples\": [\n          6397,\n          24747,\n          13384\n        ],\n        \"semantic_type\": \"\",\n        \"description\": \"\"\n      }\n    }\n  ]\n}"
            }
          },
          "metadata": {},
          "execution_count": 15
        }
      ],
      "source": [
        "df2.head()"
      ]
    },
    {
      "cell_type": "code",
      "execution_count": 16,
      "metadata": {
        "colab": {
          "base_uri": "https://localhost:8080/"
        },
        "id": "jTvB3rGj5OvJ",
        "outputId": "1962e3b4-01b0-4b3f-a0b9-3b28adb7d58e"
      },
      "outputs": [
        {
          "output_type": "execute_result",
          "data": {
            "text/plain": [
              "(67641, 2)"
            ]
          },
          "metadata": {},
          "execution_count": 16
        }
      ],
      "source": [
        "df2.shape"
      ]
    },
    {
      "cell_type": "code",
      "execution_count": 17,
      "metadata": {
        "colab": {
          "base_uri": "https://localhost:8080/"
        },
        "id": "60UHSyQeASKf",
        "outputId": "c5d0c759-abd1-4f66-8965-9a63a6612c53"
      },
      "outputs": [
        {
          "output_type": "execute_result",
          "data": {
            "text/plain": [
              "4690"
            ]
          },
          "metadata": {},
          "execution_count": 17
        }
      ],
      "source": [
        "df2['book_id'].nunique()"
      ]
    },
    {
      "cell_type": "code",
      "execution_count": 18,
      "metadata": {
        "colab": {
          "base_uri": "https://localhost:8080/"
        },
        "id": "f8V81qZFAajU",
        "outputId": "938938f6-18c4-4ab6-dbd4-9c42d23ed671"
      },
      "outputs": [
        {
          "output_type": "execute_result",
          "data": {
            "text/plain": [
              "2380"
            ]
          },
          "metadata": {},
          "execution_count": 18
        }
      ],
      "source": [
        "df2['user_id'].nunique()"
      ]
    },
    {
      "cell_type": "code",
      "execution_count": 19,
      "metadata": {
        "colab": {
          "base_uri": "https://localhost:8080/"
        },
        "id": "DloWcCUIwpMQ",
        "outputId": "fc732bef-2519-4b5e-9f54-901ad8539ea0"
      },
      "outputs": [
        {
          "output_type": "stream",
          "name": "stdout",
          "text": [
            "cpu\n"
          ]
        }
      ],
      "source": [
        "config = {\n",
        "    'max_len' : 50,\n",
        "    'hidden_units' : 256, # Embedding size\n",
        "    'num_heads' : 2, # Multi-head layer\n",
        "    'num_layers': 2, # block (encoder layer)\n",
        "    'dropout_rate' : 0.1, # dropout\n",
        "    'lr' : 0.001,\n",
        "    'batch_size' : 128,\n",
        "    'num_epochs' : 50,\n",
        "    'num_workers' : 2,\n",
        "    'mask_prob' : 0.15, # for cloze task\n",
        "}\n",
        "\n",
        "device = 'cuda' if torch.cuda.is_available() else 'cpu'\n",
        "print(device)"
      ]
    },
    {
      "cell_type": "code",
      "execution_count": 21,
      "metadata": {
        "id": "A4W1JN1_wwIG"
      },
      "outputs": [],
      "source": [
        "class MakeSequenceDataSet():\n",
        "    \"\"\"\n",
        "    SequenceData\n",
        "    \"\"\"\n",
        "    def __init__(self, config):\n",
        "        self.df = df2\n",
        "\n",
        "        self.item_encoder, self.item_decoder = self.generate_encoder_decoder('book_id')\n",
        "        self.user_encoder, self.user_decoder = self.generate_encoder_decoder('user_id')\n",
        "        self.num_item, self.num_user = len(self.item_encoder), len(self.user_encoder)\n",
        "\n",
        "        self.df['item_idx'] = self.df['book_id'].apply(lambda x : self.item_encoder[x] + 1)\n",
        "        self.df['user_idx'] = self.df['user_id'].apply(lambda x : self.user_encoder[x])\n",
        "        self.user_train, self.user_valid = self.generate_sequence_data()\n",
        "\n",
        "    def generate_encoder_decoder(self, col : str) -> dict:\n",
        "        \"\"\"\n",
        "        encoder, decoder\n",
        "\n",
        "        Args:\n",
        "            col (str): columns\n",
        "        Returns:\n",
        "            dict: user encoder, decoder\n",
        "        \"\"\"\n",
        "\n",
        "        encoder = {}\n",
        "        decoder = {}\n",
        "        ids = self.df[col].unique()\n",
        "\n",
        "        for idx, _id in enumerate(ids):\n",
        "            encoder[_id] = idx\n",
        "            decoder[idx] = _id\n",
        "\n",
        "        return encoder, decoder\n",
        "\n",
        "    def generate_sequence_data(self) -> dict:\n",
        "        \"\"\"\n",
        "        sequence_data\n",
        "\n",
        "        Returns:\n",
        "            dict: train user sequence / valid user sequence\n",
        "        \"\"\"\n",
        "        users = defaultdict(list)\n",
        "        user_train = {}\n",
        "        user_valid = {}\n",
        "        group_df = self.df.groupby('user_idx')\n",
        "        for user, item in group_df:\n",
        "            users[user].extend(item['item_idx'].tolist())\n",
        "\n",
        "        for user in users:\n",
        "            user_train[user] = users[user][:-1]\n",
        "            user_valid[user] = [users[user][-1]] #\n",
        "\n",
        "        return user_train, user_valid\n",
        "\n",
        "    def get_train_valid_data(self):\n",
        "        return self.user_train, self.user_valid"
      ]
    },
    {
      "cell_type": "code",
      "execution_count": 22,
      "metadata": {
        "id": "21a_jBucw1lZ"
      },
      "outputs": [],
      "source": [
        "class BERTRecDataSet(Dataset):\n",
        "    def __init__(self, user_train, max_len, num_user, num_item, mask_prob):\n",
        "        self.user_train = user_train\n",
        "        self.max_len = max_len\n",
        "        self.num_user = num_user\n",
        "        self.num_item = num_item\n",
        "        self.mask_prob = mask_prob\n",
        "        self._all_items = set([i for i in range(1, self.num_item + 1)])\n",
        "\n",
        "    def __len__(self):\n",
        "        return self.num_user\n",
        "\n",
        "    def __getitem__(self, user):\n",
        "\n",
        "        user_seq = self.user_train[user]\n",
        "        tokens = []\n",
        "        labels = []\n",
        "        for s in user_seq[-self.max_len:]:\n",
        "            prob = np.random.random()\n",
        "            if prob < self.mask_prob:\n",
        "                prob /= self.mask_prob\n",
        "                if prob < 0.8:\n",
        "                    # masking\n",
        "                    tokens.append(self.num_item + 1)  # mask_index: num_item + 1, 0: pad, 1~num_item: item index\n",
        "                elif prob < 0.9:\n",
        "                    # noise\n",
        "                    tokens.extend(self.random_neg_sampling(rated_item = user_seq, num_item_sample = 1))  # item random sampling\n",
        "                else:\n",
        "                    tokens.append(s)\n",
        "                labels.append(s) # O\n",
        "            else:\n",
        "                tokens.append(s)\n",
        "                labels.append(0) # X\n",
        "\n",
        "        mask_len = self.max_len - len(tokens)\n",
        "        tokens = [0] * mask_len + tokens\n",
        "        labels = [0] * mask_len + labels\n",
        "\n",
        "        return torch.LongTensor(tokens), torch.LongTensor(labels)\n",
        "\n",
        "    def random_neg_sampling(self, rated_item : list, num_item_sample : int):\n",
        "        nge_samples = random.sample(list(self._all_items - set(rated_item)), num_item_sample)\n",
        "        return nge_samples"
      ]
    },
    {
      "cell_type": "code",
      "execution_count": 23,
      "metadata": {
        "id": "ihpLHH1tw4n3"
      },
      "outputs": [],
      "source": [
        "class PositionalEmbedding(nn.Module):\n",
        "    def __init__(self, max_len, d_model):\n",
        "        super().__init__()\n",
        "\n",
        "        # Compute the positional encodings once in log space.\n",
        "        self.pe = nn.Embedding(max_len, d_model)\n",
        "\n",
        "    def forward(self, x):\n",
        "        batch_size = x.size(0)\n",
        "        return self.pe.weight.unsqueeze(0).repeat(batch_size, 1, 1)\n",
        "\n",
        "class TokenEmbedding(nn.Embedding):\n",
        "    def __init__(self, vocab_size, embed_size=512):\n",
        "        super().__init__(vocab_size, embed_size, padding_idx=0)"
      ]
    },
    {
      "cell_type": "code",
      "execution_count": 24,
      "metadata": {
        "id": "FHSGiMQ-w5Ow"
      },
      "outputs": [],
      "source": [
        "class BERTEmbedding(nn.Module):\n",
        "    \"\"\"\n",
        "    BERT Embedding which is consisted with under features\n",
        "        1. TokenEmbedding : normal embedding matrix\n",
        "        2. PositionalEmbedding : adding positional information using sin, cos\n",
        "\n",
        "        sum of all these features are output of BERTEmbedding\n",
        "    \"\"\"\n",
        "\n",
        "    def __init__(self, vocab_size, embed_size, max_len, dropout=0.1):\n",
        "        \"\"\"\n",
        "        :param vocab_size: total vocab size\n",
        "        :param embed_size: embedding size of token embedding\n",
        "        :param dropout: dropout rate\n",
        "        \"\"\"\n",
        "        super().__init__()\n",
        "        self.token = TokenEmbedding(vocab_size=vocab_size, embed_size=embed_size)\n",
        "        self.position = PositionalEmbedding(max_len=max_len, d_model=embed_size)\n",
        "        self.dropout = nn.Dropout(p=dropout)\n",
        "        self.embed_size = embed_size\n",
        "\n",
        "    def forward(self, sequence):\n",
        "        x = self.token(sequence) + self.position(sequence)\n",
        "        return self.dropout(x)"
      ]
    },
    {
      "cell_type": "code",
      "execution_count": 25,
      "metadata": {
        "id": "XSYKP8daw-Dc"
      },
      "outputs": [],
      "source": [
        "class Attention(nn.Module):\n",
        "    \"\"\"\n",
        "    Compute 'Scaled Dot Product Attention\n",
        "    \"\"\"\n",
        "\n",
        "    def forward(self, query, key, value, mask=None, dropout=None):\n",
        "        scores = torch.matmul(query, key.transpose(-2, -1)) \\\n",
        "                 / math.sqrt(query.size(-1))\n",
        "\n",
        "        if mask is not None:\n",
        "            scores = scores.masked_fill(mask == 0, -1e9)\n",
        "\n",
        "        p_attn = F.softmax(scores, dim=-1)\n",
        "\n",
        "        if dropout is not None:\n",
        "            p_attn = dropout(p_attn)\n",
        "\n",
        "        return torch.matmul(p_attn, value), p_attn"
      ]
    },
    {
      "cell_type": "code",
      "execution_count": 26,
      "metadata": {
        "id": "qsYogLh4xCfh"
      },
      "outputs": [],
      "source": [
        "class MultiHeadedAttention(nn.Module):\n",
        "    \"\"\"\n",
        "    Take in model size and number of heads.\n",
        "    \"\"\"\n",
        "\n",
        "    def __init__(self, h, d_model, dropout=0.1):\n",
        "        super().__init__()\n",
        "        assert d_model % h == 0\n",
        "\n",
        "        # We assume d_v always equals d_k\n",
        "        self.d_k = d_model // h\n",
        "        self.h = h\n",
        "\n",
        "        self.linear_layers = nn.ModuleList([nn.Linear(d_model, d_model) for _ in range(3)])\n",
        "        self.output_linear = nn.Linear(d_model, d_model)\n",
        "        self.attention = Attention()\n",
        "\n",
        "        self.dropout = nn.Dropout(p=dropout)\n",
        "\n",
        "    def forward(self, query, key, value, mask=None):\n",
        "        batch_size = query.size(0)\n",
        "\n",
        "        # 1) Do all the linear projections in batch from d_model => h x d_k\n",
        "        query, key, value = [l(x).view(batch_size, -1, self.h, self.d_k).transpose(1, 2)\n",
        "                             for l, x in zip(self.linear_layers, (query, key, value))]\n",
        "\n",
        "        # 2) Apply attention on all the projected vectors in batch.\n",
        "        x, attn = self.attention(query, key, value, mask=mask, dropout=self.dropout)\n",
        "\n",
        "        # 3) \"Concat\" using a view and apply a final linear.\n",
        "        x = x.transpose(1, 2).contiguous().view(batch_size, -1, self.h * self.d_k)\n",
        "\n",
        "        return self.output_linear(x)"
      ]
    },
    {
      "cell_type": "code",
      "execution_count": 27,
      "metadata": {
        "id": "ZgBwDWJgxGak"
      },
      "outputs": [],
      "source": [
        "class GELU(nn.Module):\n",
        "    \"\"\"\n",
        "    Paper Section 3.4, last paragraph notice that BERT used the GELU instead of RELU\n",
        "    \"\"\"\n",
        "\n",
        "    def forward(self, x):\n",
        "        return 0.5 * x * (1 + torch.tanh(math.sqrt(2 / math.pi) * (x + 0.044715 * torch.pow(x, 3))))"
      ]
    },
    {
      "cell_type": "code",
      "execution_count": 28,
      "metadata": {
        "id": "r_6xC5KfxJEm"
      },
      "outputs": [],
      "source": [
        "class PositionwiseFeedForward(nn.Module):\n",
        "    \"Implements FFN equation.\"\n",
        "\n",
        "    def __init__(self, d_model, d_ff, dropout=0.1):\n",
        "        super(PositionwiseFeedForward, self).__init__()\n",
        "        self.w_1 = nn.Linear(d_model, d_ff)\n",
        "        self.w_2 = nn.Linear(d_ff, d_model)\n",
        "        self.dropout = nn.Dropout(dropout)\n",
        "        self.activation = GELU()\n",
        "\n",
        "    def forward(self, x):\n",
        "        return self.w_2(self.dropout(self.activation(self.w_1(x))))"
      ]
    },
    {
      "cell_type": "code",
      "execution_count": 29,
      "metadata": {
        "id": "CM4g7ykxxLwA"
      },
      "outputs": [],
      "source": [
        "class LayerNorm(nn.Module):\n",
        "    \"Construct a layernorm module (See citation for details).\"\n",
        "\n",
        "    def __init__(self, features, eps=1e-6):\n",
        "        super(LayerNorm, self).__init__()\n",
        "        self.a_2 = nn.Parameter(torch.ones(features))\n",
        "        self.b_2 = nn.Parameter(torch.zeros(features))\n",
        "        self.eps = eps\n",
        "\n",
        "    def forward(self, x):\n",
        "        mean = x.mean(-1, keepdim=True)\n",
        "        std = x.std(-1, keepdim=True)\n",
        "        return self.a_2 * (x - mean) / (std + self.eps) + self.b_2"
      ]
    },
    {
      "cell_type": "code",
      "execution_count": 30,
      "metadata": {
        "id": "on-SsACnxOr_"
      },
      "outputs": [],
      "source": [
        "class SublayerConnection(nn.Module):\n",
        "    \"\"\"\n",
        "    A residual connection followed by a layer norm.\n",
        "    Note for code simplicity the norm is first as opposed to last.\n",
        "    \"\"\"\n",
        "\n",
        "    def __init__(self, size, dropout):\n",
        "        super(SublayerConnection, self).__init__()\n",
        "        self.norm = LayerNorm(size)\n",
        "        self.dropout = nn.Dropout(dropout)\n",
        "\n",
        "    def forward(self, x, sublayer):\n",
        "        \"Apply residual connection to any sublayer with the same size.\"\n",
        "        return x + self.dropout(sublayer(self.norm(x)))"
      ]
    },
    {
      "cell_type": "code",
      "execution_count": 31,
      "metadata": {
        "id": "GmZH7eJUxRfx"
      },
      "outputs": [],
      "source": [
        "class TransformerBlock(nn.Module):\n",
        "    \"\"\"\n",
        "    Bidirectional Encoder = Transformer (self-attention)\n",
        "    Transformer = MultiHead_Attention + Feed_Forward with sublayer connection\n",
        "    \"\"\"\n",
        "\n",
        "    def __init__(self, hidden, attn_heads, feed_forward_hidden, dropout):\n",
        "        \"\"\"\n",
        "        :param hidden: hidden size of transformer\n",
        "        :param attn_heads: head sizes of multi-head attention\n",
        "        :param feed_forward_hidden: feed_forward_hidden, usually 4*hidden_size\n",
        "        :param dropout: dropout rate\n",
        "        \"\"\"\n",
        "\n",
        "        super().__init__()\n",
        "        self.attention = MultiHeadedAttention(h=attn_heads, d_model=hidden, dropout=dropout)\n",
        "        self.feed_forward = PositionwiseFeedForward(d_model=hidden, d_ff=feed_forward_hidden, dropout=dropout)\n",
        "        self.input_sublayer = SublayerConnection(size=hidden, dropout=dropout)\n",
        "        self.output_sublayer = SublayerConnection(size=hidden, dropout=dropout)\n",
        "        self.dropout = nn.Dropout(p=dropout)\n",
        "\n",
        "    def forward(self, x, mask):\n",
        "        x = self.input_sublayer(x, lambda _x: self.attention.forward(_x, _x, _x, mask=mask))\n",
        "        x = self.output_sublayer(x, self.feed_forward)\n",
        "        return self.dropout(x)"
      ]
    },
    {
      "cell_type": "code",
      "execution_count": 32,
      "metadata": {
        "id": "jrLe4L_UxUVK"
      },
      "outputs": [],
      "source": [
        "class BERT(nn.Module):\n",
        "    def __init__(self, bert_max_len, num_items, bert_num_blocks, bert_num_heads,\n",
        "                 bert_hidden_units, bert_dropout):\n",
        "        super().__init__()\n",
        "\n",
        "        max_len = bert_max_len\n",
        "        num_items = num_items\n",
        "        n_layers = bert_num_blocks\n",
        "        heads = bert_num_heads\n",
        "        vocab_size = num_items + 2\n",
        "        hidden = bert_hidden_units\n",
        "        self.hidden = hidden\n",
        "        dropout = bert_dropout\n",
        "\n",
        "        # embedding for BERT, sum of positional, token embeddings\n",
        "        self.embedding = BERTEmbedding(vocab_size=vocab_size, embed_size=self.hidden, max_len=max_len, dropout=dropout)\n",
        "\n",
        "        # multi-layers transformer blocks, deep network\n",
        "        self.transformer_blocks = nn.ModuleList(\n",
        "            [TransformerBlock(hidden, heads, hidden * 4, dropout) for _ in range(n_layers)])\n",
        "        self.out = nn.Linear(hidden, num_items + 1)\n",
        "\n",
        "    def forward(self, x):\n",
        "        mask = (x > 0).unsqueeze(1).repeat(1, x.size(1), 1).unsqueeze(1)\n",
        "\n",
        "        # embedding the indexed sequence to sequence of vectors\n",
        "        x = self.embedding(x)\n",
        "\n",
        "        # running over multiple transformer blocks\n",
        "        for transformer in self.transformer_blocks:\n",
        "            x = transformer.forward(x, mask)\n",
        "\n",
        "        x = self.out(x)\n",
        "        return x\n",
        "\n",
        "    def init_weights(self):\n",
        "        pass\n"
      ]
    },
    {
      "cell_type": "code",
      "execution_count": 33,
      "metadata": {
        "id": "ugIMW329xYL4"
      },
      "outputs": [],
      "source": [
        "def train(model, criterion, optimizer, data_loader):\n",
        "    model.train()\n",
        "    loss_val = 0\n",
        "    for seq, labels in tqdm(data_loader):\n",
        "        seq, labels = seq.to(device), labels.to(device)\n",
        "        logits = model(seq) # (bs, t, vocab)\n",
        "        logits = logits.view(-1, logits.size(-1)) # (bs * t, vocab)\n",
        "        labels = labels.view(-1) # (bs * t)\n",
        "\n",
        "        optimizer.zero_grad()\n",
        "        loss = criterion(logits, labels)\n",
        "\n",
        "        loss_val += loss.item()\n",
        "\n",
        "        loss.backward()\n",
        "        optimizer.step()\n",
        "\n",
        "    loss_val /= len(data_loader)\n",
        "\n",
        "    return loss_val"
      ]
    },
    {
      "cell_type": "code",
      "execution_count": 34,
      "metadata": {
        "id": "9E59hfbdxfZv"
      },
      "outputs": [],
      "source": [
        "make_sequence_dataset = MakeSequenceDataSet(config)"
      ]
    },
    {
      "cell_type": "code",
      "execution_count": 35,
      "metadata": {
        "id": "D8izm2UnxiFN"
      },
      "outputs": [],
      "source": [
        "user_train, user_valid = make_sequence_dataset.get_train_valid_data()"
      ]
    },
    {
      "cell_type": "code",
      "execution_count": 36,
      "metadata": {
        "id": "7svoJgJ9xk6N"
      },
      "outputs": [],
      "source": [
        "bert4rec_dataset = BERTRecDataSet(\n",
        "    user_train = user_train,\n",
        "    max_len = config['max_len'],\n",
        "    num_user = make_sequence_dataset.num_user,\n",
        "    num_item = make_sequence_dataset.num_item,\n",
        "    mask_prob = config['mask_prob'],)"
      ]
    },
    {
      "cell_type": "code",
      "execution_count": 37,
      "metadata": {
        "id": "9J5I8VmixnQV"
      },
      "outputs": [],
      "source": [
        "data_loader = DataLoader(\n",
        "    bert4rec_dataset,\n",
        "    batch_size = config['batch_size'],\n",
        "    shuffle = True,\n",
        "    pin_memory = True,\n",
        "    num_workers = config['num_workers'],)"
      ]
    },
    {
      "cell_type": "code",
      "execution_count": 38,
      "metadata": {
        "id": "n6v43quHxpv4"
      },
      "outputs": [],
      "source": [
        "device = 'cuda' if torch.cuda.is_available() else 'cpu'\n",
        "\n",
        "model = BERT(\n",
        "    num_items = 4690,\n",
        "    bert_hidden_units = config['hidden_units'],\n",
        "    bert_num_heads = config['num_heads'],\n",
        "    bert_num_blocks = config['num_layers'],\n",
        "    bert_max_len = config['max_len'],\n",
        "    bert_dropout = config['dropout_rate'],\n",
        "    ).to(device)\n",
        "\n",
        "criterion = nn.CrossEntropyLoss(ignore_index=0) # label (padding)\n",
        "optimizer = torch.optim.Adam(model.parameters(), lr=config['lr'])"
      ]
    },
    {
      "cell_type": "code",
      "execution_count": null,
      "metadata": {
        "colab": {
          "base_uri": "https://localhost:8080/"
        },
        "collapsed": true,
        "id": "_YVWmZ9Yxwxd",
        "outputId": "71ad0be7-1250-40a6-ea7f-1b08951d7779"
      },
      "outputs": [
        {
          "output_type": "stream",
          "name": "stderr",
          "text": [
            "  0%|          | 0/50 [00:00<?, ?it/s]\n",
            "  0%|          | 0/19 [00:00<?, ?it/s]\u001b[A\n",
            "  5%|▌         | 1/19 [00:02<00:40,  2.24s/it]\u001b[A\n",
            " 16%|█▌        | 3/19 [00:02<00:10,  1.58it/s]\u001b[A\n",
            " 26%|██▋       | 5/19 [00:02<00:04,  2.89it/s]\u001b[A\n",
            " 37%|███▋      | 7/19 [00:02<00:02,  4.52it/s]\u001b[A\n",
            " 53%|█████▎    | 10/19 [00:02<00:01,  7.22it/s]\u001b[A\n",
            " 63%|██████▎   | 12/19 [00:02<00:00,  8.98it/s]\u001b[A\n",
            " 79%|███████▉  | 15/19 [00:03<00:00, 11.64it/s]\u001b[A\n",
            "100%|██████████| 19/19 [00:03<00:00,  5.83it/s]\n",
            "  2%|▏         | 1/50 [00:03<02:40,  3.27s/it]"
          ]
        },
        {
          "output_type": "stream",
          "name": "stdout",
          "text": [
            "Epoch:   1| Train loss: 8.71328\n"
          ]
        },
        {
          "output_type": "stream",
          "name": "stderr",
          "text": [
            "\n",
            "  0%|          | 0/19 [00:00<?, ?it/s]\u001b[A\n",
            "  5%|▌         | 1/19 [00:00<00:04,  4.08it/s]\u001b[A\n",
            " 21%|██        | 4/19 [00:00<00:01, 11.75it/s]\u001b[A\n",
            " 32%|███▏      | 6/19 [00:00<00:00, 14.22it/s]\u001b[A\n",
            " 47%|████▋     | 9/19 [00:00<00:00, 16.60it/s]\u001b[A\n",
            " 63%|██████▎   | 12/19 [00:00<00:00, 18.08it/s]\u001b[A\n",
            " 74%|███████▎  | 14/19 [00:00<00:00, 18.25it/s]\u001b[A\n",
            " 84%|████████▍ | 16/19 [00:00<00:00, 18.70it/s]\u001b[A\n",
            "100%|██████████| 19/19 [00:01<00:00, 15.59it/s]\n",
            "  4%|▍         | 2/50 [00:04<01:39,  2.07s/it]"
          ]
        },
        {
          "output_type": "stream",
          "name": "stdout",
          "text": [
            "Epoch:   2| Train loss: 8.38237\n"
          ]
        },
        {
          "output_type": "stream",
          "name": "stderr",
          "text": [
            "\n",
            "  0%|          | 0/19 [00:00<?, ?it/s]\u001b[A\n",
            "  5%|▌         | 1/19 [00:00<00:04,  3.84it/s]\u001b[A\n",
            " 16%|█▌        | 3/19 [00:00<00:01,  9.15it/s]\u001b[A\n",
            " 26%|██▋       | 5/19 [00:00<00:01, 12.24it/s]\u001b[A\n",
            " 37%|███▋      | 7/19 [00:00<00:00, 14.49it/s]\u001b[A\n",
            " 53%|█████▎    | 10/19 [00:00<00:00, 16.45it/s]\u001b[A\n",
            " 68%|██████▊   | 13/19 [00:00<00:00, 18.38it/s]\u001b[A\n",
            " 84%|████████▍ | 16/19 [00:01<00:00, 19.27it/s]\u001b[A\n",
            "100%|██████████| 19/19 [00:01<00:00, 15.13it/s]\n",
            "  6%|▌         | 3/50 [00:05<01:20,  1.70s/it]"
          ]
        },
        {
          "output_type": "stream",
          "name": "stdout",
          "text": [
            "Epoch:   3| Train loss: 8.20450\n"
          ]
        },
        {
          "output_type": "stream",
          "name": "stderr",
          "text": [
            "\n",
            "  0%|          | 0/19 [00:00<?, ?it/s]\u001b[A\n",
            "  5%|▌         | 1/19 [00:00<00:03,  4.51it/s]\u001b[A\n",
            " 16%|█▌        | 3/19 [00:00<00:01, 10.34it/s]\u001b[A\n",
            " 26%|██▋       | 5/19 [00:00<00:01, 13.74it/s]\u001b[A\n",
            " 37%|███▋      | 7/19 [00:00<00:00, 15.59it/s]\u001b[A\n",
            " 53%|█████▎    | 10/19 [00:00<00:00, 17.74it/s]\u001b[A\n",
            " 63%|██████▎   | 12/19 [00:00<00:00, 17.83it/s]\u001b[A\n",
            " 74%|███████▎  | 14/19 [00:00<00:00, 14.96it/s]\u001b[A\n",
            " 84%|████████▍ | 16/19 [00:01<00:00, 14.27it/s]\u001b[A\n",
            "100%|██████████| 19/19 [00:01<00:00, 12.06it/s]\n",
            "  8%|▊         | 4/50 [00:07<01:16,  1.66s/it]"
          ]
        },
        {
          "output_type": "stream",
          "name": "stdout",
          "text": [
            "Epoch:   4| Train loss: 8.05579\n"
          ]
        },
        {
          "output_type": "stream",
          "name": "stderr",
          "text": [
            "\n",
            "  0%|          | 0/19 [00:00<?, ?it/s]\u001b[A\n",
            "  5%|▌         | 1/19 [00:00<00:04,  3.78it/s]\u001b[A\n",
            " 16%|█▌        | 3/19 [00:00<00:01,  9.37it/s]\u001b[A\n",
            " 32%|███▏      | 6/19 [00:00<00:00, 13.44it/s]\u001b[A\n",
            " 47%|████▋     | 9/19 [00:00<00:00, 15.81it/s]\u001b[A\n",
            " 58%|█████▊    | 11/19 [00:00<00:00, 16.06it/s]\u001b[A\n",
            " 74%|███████▎  | 14/19 [00:00<00:00, 16.95it/s]\u001b[A\n",
            "100%|██████████| 19/19 [00:01<00:00, 15.52it/s]\n",
            " 10%|█         | 5/50 [00:08<01:08,  1.51s/it]"
          ]
        },
        {
          "output_type": "stream",
          "name": "stdout",
          "text": [
            "Epoch:   5| Train loss: 7.92136\n"
          ]
        },
        {
          "output_type": "stream",
          "name": "stderr",
          "text": [
            "\n",
            "  0%|          | 0/19 [00:00<?, ?it/s]\u001b[A\n",
            "  5%|▌         | 1/19 [00:00<00:02,  7.87it/s]\u001b[A\n",
            " 21%|██        | 4/19 [00:00<00:00, 16.61it/s]\u001b[A\n",
            " 37%|███▋      | 7/19 [00:00<00:00, 18.85it/s]\u001b[A\n",
            " 53%|█████▎    | 10/19 [00:00<00:00, 19.76it/s]\u001b[A\n",
            " 68%|██████▊   | 13/19 [00:00<00:00, 20.30it/s]\u001b[A\n",
            " 84%|████████▍ | 16/19 [00:00<00:00, 20.62it/s]\u001b[A\n",
            "100%|██████████| 19/19 [00:01<00:00, 18.92it/s]\n",
            " 12%|█▏        | 6/50 [00:09<00:59,  1.34s/it]"
          ]
        },
        {
          "output_type": "stream",
          "name": "stdout",
          "text": [
            "Epoch:   6| Train loss: 7.78957\n"
          ]
        },
        {
          "output_type": "stream",
          "name": "stderr",
          "text": [
            "\n",
            "  0%|          | 0/19 [00:00<?, ?it/s]\u001b[A\n",
            "  5%|▌         | 1/19 [00:00<00:02,  7.60it/s]\u001b[A\n",
            " 21%|██        | 4/19 [00:00<00:00, 15.52it/s]\u001b[A\n",
            " 37%|███▋      | 7/19 [00:00<00:00, 18.65it/s]\u001b[A\n",
            " 53%|█████▎    | 10/19 [00:00<00:00, 19.63it/s]\u001b[A\n",
            " 68%|██████▊   | 13/19 [00:00<00:00, 20.21it/s]\u001b[A\n",
            " 84%|████████▍ | 16/19 [00:00<00:00, 20.50it/s]\u001b[A\n",
            "100%|██████████| 19/19 [00:01<00:00, 18.77it/s]\n",
            " 14%|█▍        | 7/50 [00:10<00:53,  1.24s/it]"
          ]
        },
        {
          "output_type": "stream",
          "name": "stdout",
          "text": [
            "Epoch:   7| Train loss: 7.70525\n"
          ]
        },
        {
          "output_type": "stream",
          "name": "stderr",
          "text": [
            "\n",
            "  0%|          | 0/19 [00:00<?, ?it/s]\u001b[A\n",
            "  5%|▌         | 1/19 [00:00<00:02,  8.59it/s]\u001b[A\n",
            " 21%|██        | 4/19 [00:00<00:00, 16.84it/s]\u001b[A\n",
            " 37%|███▋      | 7/19 [00:00<00:00, 19.06it/s]\u001b[A\n",
            " 53%|█████▎    | 10/19 [00:00<00:00, 19.90it/s]\u001b[A\n",
            " 68%|██████▊   | 13/19 [00:00<00:00, 20.38it/s]\u001b[A\n",
            " 84%|████████▍ | 16/19 [00:00<00:00, 20.48it/s]\u001b[A\n",
            "100%|██████████| 19/19 [00:00<00:00, 19.05it/s]\n",
            " 16%|█▌        | 8/50 [00:11<00:48,  1.17s/it]"
          ]
        },
        {
          "output_type": "stream",
          "name": "stdout",
          "text": [
            "Epoch:   8| Train loss: 7.63299\n"
          ]
        },
        {
          "output_type": "stream",
          "name": "stderr",
          "text": [
            "\n",
            "  0%|          | 0/19 [00:00<?, ?it/s]\u001b[A\n",
            "  5%|▌         | 1/19 [00:00<00:02,  7.86it/s]\u001b[A\n",
            " 21%|██        | 4/19 [00:00<00:00, 16.22it/s]\u001b[A\n",
            " 37%|███▋      | 7/19 [00:00<00:00, 18.61it/s]\u001b[A\n",
            " 53%|█████▎    | 10/19 [00:00<00:00, 19.53it/s]\u001b[A\n",
            " 68%|██████▊   | 13/19 [00:00<00:00, 20.19it/s]\u001b[A\n",
            " 84%|████████▍ | 16/19 [00:00<00:00, 20.39it/s]\u001b[A\n",
            "100%|██████████| 19/19 [00:01<00:00, 18.81it/s]\n",
            " 18%|█▊        | 9/50 [00:12<00:45,  1.12s/it]"
          ]
        },
        {
          "output_type": "stream",
          "name": "stdout",
          "text": [
            "Epoch:   9| Train loss: 7.52765\n"
          ]
        },
        {
          "output_type": "stream",
          "name": "stderr",
          "text": [
            "\n",
            "  0%|          | 0/19 [00:00<?, ?it/s]\u001b[A\n",
            "  5%|▌         | 1/19 [00:00<00:02,  8.21it/s]\u001b[A\n",
            " 21%|██        | 4/19 [00:00<00:00, 16.45it/s]\u001b[A\n",
            " 37%|███▋      | 7/19 [00:00<00:00, 18.72it/s]\u001b[A\n",
            " 53%|█████▎    | 10/19 [00:00<00:00, 19.68it/s]\u001b[A\n",
            " 68%|██████▊   | 13/19 [00:00<00:00, 20.31it/s]\u001b[A\n",
            " 84%|████████▍ | 16/19 [00:00<00:00, 20.60it/s]\u001b[A\n",
            "100%|██████████| 19/19 [00:01<00:00, 18.95it/s]\n",
            " 20%|██        | 10/50 [00:13<00:43,  1.09s/it]"
          ]
        },
        {
          "output_type": "stream",
          "name": "stdout",
          "text": [
            "Epoch:  10| Train loss: 7.42921\n"
          ]
        },
        {
          "output_type": "stream",
          "name": "stderr",
          "text": [
            "\n",
            "  0%|          | 0/19 [00:00<?, ?it/s]\u001b[A\n",
            "  5%|▌         | 1/19 [00:00<00:02,  8.40it/s]\u001b[A\n",
            " 21%|██        | 4/19 [00:00<00:00, 16.77it/s]\u001b[A\n",
            " 37%|███▋      | 7/19 [00:00<00:00, 18.83it/s]\u001b[A\n",
            " 53%|█████▎    | 10/19 [00:00<00:00, 19.74it/s]\u001b[A\n",
            " 68%|██████▊   | 13/19 [00:00<00:00, 20.22it/s]\u001b[A\n",
            " 84%|████████▍ | 16/19 [00:00<00:00, 20.52it/s]\u001b[A\n",
            "100%|██████████| 19/19 [00:01<00:00, 18.94it/s]\n",
            " 22%|██▏       | 11/50 [00:14<00:41,  1.06s/it]"
          ]
        },
        {
          "output_type": "stream",
          "name": "stdout",
          "text": [
            "Epoch:  11| Train loss: 7.34566\n"
          ]
        },
        {
          "output_type": "stream",
          "name": "stderr",
          "text": [
            "\n",
            "  0%|          | 0/19 [00:00<?, ?it/s]\u001b[A\n",
            "  5%|▌         | 1/19 [00:00<00:02,  7.80it/s]\u001b[A\n",
            " 21%|██        | 4/19 [00:00<00:00, 16.66it/s]\u001b[A\n",
            " 37%|███▋      | 7/19 [00:00<00:00, 18.63it/s]\u001b[A\n",
            " 53%|█████▎    | 10/19 [00:00<00:00, 19.73it/s]\u001b[A\n",
            " 68%|██████▊   | 13/19 [00:00<00:00, 20.25it/s]\u001b[A\n",
            " 84%|████████▍ | 16/19 [00:00<00:00, 20.60it/s]\u001b[A\n",
            "100%|██████████| 19/19 [00:01<00:00, 18.88it/s]\n",
            " 24%|██▍       | 12/50 [00:15<00:39,  1.05s/it]"
          ]
        },
        {
          "output_type": "stream",
          "name": "stdout",
          "text": [
            "Epoch:  12| Train loss: 7.27410\n"
          ]
        },
        {
          "output_type": "stream",
          "name": "stderr",
          "text": [
            "\n",
            "  0%|          | 0/19 [00:00<?, ?it/s]\u001b[A\n",
            "  5%|▌         | 1/19 [00:00<00:02,  7.82it/s]\u001b[A\n",
            " 21%|██        | 4/19 [00:00<00:00, 16.43it/s]\u001b[A\n",
            " 37%|███▋      | 7/19 [00:00<00:00, 18.67it/s]\u001b[A\n",
            " 53%|█████▎    | 10/19 [00:00<00:00, 19.67it/s]\u001b[A\n",
            " 68%|██████▊   | 13/19 [00:00<00:00, 20.19it/s]\u001b[A\n",
            " 84%|████████▍ | 16/19 [00:00<00:00, 20.46it/s]\u001b[A\n",
            "100%|██████████| 19/19 [00:01<00:00, 18.74it/s]\n",
            " 26%|██▌       | 13/50 [00:16<00:38,  1.04s/it]"
          ]
        },
        {
          "output_type": "stream",
          "name": "stdout",
          "text": [
            "Epoch:  13| Train loss: 7.19097\n"
          ]
        },
        {
          "output_type": "stream",
          "name": "stderr",
          "text": [
            "\n",
            "  0%|          | 0/19 [00:00<?, ?it/s]\u001b[A\n",
            "  5%|▌         | 1/19 [00:00<00:02,  7.04it/s]\u001b[A\n",
            " 21%|██        | 4/19 [00:00<00:00, 15.97it/s]\u001b[A\n",
            " 32%|███▏      | 6/19 [00:00<00:00, 17.41it/s]\u001b[A\n",
            " 47%|████▋     | 9/19 [00:00<00:00, 19.36it/s]\u001b[A\n",
            " 63%|██████▎   | 12/19 [00:00<00:00, 20.05it/s]\u001b[A\n",
            " 79%|███████▉  | 15/19 [00:00<00:00, 20.39it/s]\u001b[A\n",
            "100%|██████████| 19/19 [00:01<00:00, 18.71it/s]\n",
            " 28%|██▊       | 14/50 [00:17<00:37,  1.04s/it]"
          ]
        },
        {
          "output_type": "stream",
          "name": "stdout",
          "text": [
            "Epoch:  14| Train loss: 7.15469\n"
          ]
        },
        {
          "output_type": "stream",
          "name": "stderr",
          "text": [
            "\n",
            "  0%|          | 0/19 [00:00<?, ?it/s]\u001b[A\n",
            "  5%|▌         | 1/19 [00:00<00:03,  5.36it/s]\u001b[A\n",
            " 21%|██        | 4/19 [00:00<00:01, 13.72it/s]\u001b[A\n",
            " 32%|███▏      | 6/19 [00:00<00:00, 15.83it/s]\u001b[A\n",
            " 47%|████▋     | 9/19 [00:00<00:00, 18.03it/s]\u001b[A\n",
            " 63%|██████▎   | 12/19 [00:00<00:00, 19.06it/s]\u001b[A\n",
            " 79%|███████▉  | 15/19 [00:00<00:00, 19.59it/s]\u001b[A\n",
            "100%|██████████| 19/19 [00:01<00:00, 17.21it/s]\n",
            " 30%|███       | 15/50 [00:18<00:37,  1.06s/it]"
          ]
        },
        {
          "output_type": "stream",
          "name": "stdout",
          "text": [
            "Epoch:  15| Train loss: 7.06621\n"
          ]
        },
        {
          "output_type": "stream",
          "name": "stderr",
          "text": [
            "\n",
            "  0%|          | 0/19 [00:00<?, ?it/s]\u001b[A\n",
            "  5%|▌         | 1/19 [00:00<00:03,  4.91it/s]\u001b[A\n",
            " 21%|██        | 4/19 [00:00<00:01, 13.27it/s]\u001b[A\n",
            " 37%|███▋      | 7/19 [00:00<00:00, 16.40it/s]\u001b[A\n",
            " 47%|████▋     | 9/19 [00:00<00:00, 17.32it/s]\u001b[A\n",
            " 63%|██████▎   | 12/19 [00:00<00:00, 18.77it/s]\u001b[A\n",
            " 79%|███████▉  | 15/19 [00:00<00:00, 19.53it/s]\u001b[A\n",
            "100%|██████████| 19/19 [00:01<00:00, 17.09it/s]\n",
            " 32%|███▏      | 16/50 [00:20<00:36,  1.08s/it]"
          ]
        },
        {
          "output_type": "stream",
          "name": "stdout",
          "text": [
            "Epoch:  16| Train loss: 6.98312\n"
          ]
        },
        {
          "output_type": "stream",
          "name": "stderr",
          "text": [
            "\n",
            "  0%|          | 0/19 [00:00<?, ?it/s]\u001b[A\n",
            "  5%|▌         | 1/19 [00:00<00:03,  5.19it/s]\u001b[A\n",
            " 16%|█▌        | 3/19 [00:00<00:01, 11.48it/s]\u001b[A\n",
            " 26%|██▋       | 5/19 [00:00<00:00, 14.61it/s]\u001b[A\n",
            " 42%|████▏     | 8/19 [00:00<00:00, 17.20it/s]\u001b[A\n",
            " 58%|█████▊    | 11/19 [00:00<00:00, 18.45it/s]\u001b[A\n",
            " 74%|███████▎  | 14/19 [00:00<00:00, 19.28it/s]\u001b[A\n",
            "100%|██████████| 19/19 [00:01<00:00, 16.99it/s]\n",
            " 34%|███▍      | 17/50 [00:21<00:36,  1.09s/it]"
          ]
        },
        {
          "output_type": "stream",
          "name": "stdout",
          "text": [
            "Epoch:  17| Train loss: 6.93437\n"
          ]
        },
        {
          "output_type": "stream",
          "name": "stderr",
          "text": [
            "\n",
            "  0%|          | 0/19 [00:00<?, ?it/s]\u001b[A\n",
            "  5%|▌         | 1/19 [00:00<00:02,  6.50it/s]\u001b[A\n",
            " 16%|█▌        | 3/19 [00:00<00:01, 12.73it/s]\u001b[A\n",
            " 32%|███▏      | 6/19 [00:00<00:00, 16.94it/s]\u001b[A\n",
            " 47%|████▋     | 9/19 [00:00<00:00, 18.15it/s]\u001b[A\n",
            " 63%|██████▎   | 12/19 [00:00<00:00, 19.12it/s]\u001b[A\n",
            " 74%|███████▎  | 14/19 [00:00<00:00, 19.05it/s]\u001b[A\n",
            "100%|██████████| 19/19 [00:01<00:00, 17.21it/s]\n",
            " 36%|███▌      | 18/50 [00:22<00:35,  1.10s/it]"
          ]
        },
        {
          "output_type": "stream",
          "name": "stdout",
          "text": [
            "Epoch:  18| Train loss: 6.87005\n"
          ]
        },
        {
          "output_type": "stream",
          "name": "stderr",
          "text": [
            "\n",
            "  0%|          | 0/19 [00:00<?, ?it/s]\u001b[A\n",
            "  5%|▌         | 1/19 [00:00<00:03,  5.39it/s]\u001b[A\n",
            " 21%|██        | 4/19 [00:00<00:01, 13.94it/s]\u001b[A\n",
            " 37%|███▋      | 7/19 [00:00<00:00, 17.03it/s]\u001b[A\n",
            " 53%|█████▎    | 10/19 [00:00<00:00, 18.45it/s]\u001b[A\n",
            " 68%|██████▊   | 13/19 [00:00<00:00, 19.42it/s]\u001b[A\n",
            " 84%|████████▍ | 16/19 [00:00<00:00, 20.00it/s]\u001b[A\n",
            "100%|██████████| 19/19 [00:01<00:00, 17.75it/s]\n",
            " 38%|███▊      | 19/50 [00:23<00:33,  1.09s/it]"
          ]
        },
        {
          "output_type": "stream",
          "name": "stdout",
          "text": [
            "Epoch:  19| Train loss: 6.82090\n"
          ]
        },
        {
          "output_type": "stream",
          "name": "stderr",
          "text": [
            "\n",
            "  0%|          | 0/19 [00:00<?, ?it/s]\u001b[A\n",
            "  5%|▌         | 1/19 [00:00<00:02,  7.96it/s]\u001b[A\n",
            " 21%|██        | 4/19 [00:00<00:00, 16.71it/s]\u001b[A\n",
            " 37%|███▋      | 7/19 [00:00<00:00, 18.79it/s]\u001b[A\n",
            " 53%|█████▎    | 10/19 [00:00<00:00, 19.56it/s]\u001b[A\n",
            " 68%|██████▊   | 13/19 [00:00<00:00, 20.21it/s]\u001b[A\n",
            " 84%|████████▍ | 16/19 [00:00<00:00, 20.56it/s]\u001b[A\n",
            "100%|██████████| 19/19 [00:01<00:00, 18.90it/s]\n",
            " 40%|████      | 20/50 [00:24<00:32,  1.07s/it]"
          ]
        },
        {
          "output_type": "stream",
          "name": "stdout",
          "text": [
            "Epoch:  20| Train loss: 6.71548\n"
          ]
        },
        {
          "output_type": "stream",
          "name": "stderr",
          "text": [
            "\n",
            "  0%|          | 0/19 [00:00<?, ?it/s]\u001b[A\n",
            "  5%|▌         | 1/19 [00:00<00:02,  7.65it/s]\u001b[A\n",
            " 21%|██        | 4/19 [00:00<00:00, 16.93it/s]\u001b[A\n",
            " 37%|███▋      | 7/19 [00:00<00:00, 18.84it/s]\u001b[A\n",
            " 53%|█████▎    | 10/19 [00:00<00:00, 19.64it/s]\u001b[A\n",
            " 68%|██████▊   | 13/19 [00:00<00:00, 20.23it/s]\u001b[A\n",
            " 84%|████████▍ | 16/19 [00:00<00:00, 20.52it/s]\u001b[A\n",
            "100%|██████████| 19/19 [00:01<00:00, 18.88it/s]\n",
            " 42%|████▏     | 21/50 [00:25<00:30,  1.06s/it]"
          ]
        },
        {
          "output_type": "stream",
          "name": "stdout",
          "text": [
            "Epoch:  21| Train loss: 6.68128\n"
          ]
        },
        {
          "output_type": "stream",
          "name": "stderr",
          "text": [
            "\n",
            "  0%|          | 0/19 [00:00<?, ?it/s]\u001b[A\n",
            "  5%|▌         | 1/19 [00:00<00:02,  8.19it/s]\u001b[A\n",
            " 21%|██        | 4/19 [00:00<00:00, 16.27it/s]\u001b[A\n",
            " 37%|███▋      | 7/19 [00:00<00:00, 18.53it/s]\u001b[A\n",
            " 53%|█████▎    | 10/19 [00:00<00:00, 19.55it/s]\u001b[A\n",
            " 68%|██████▊   | 13/19 [00:00<00:00, 20.14it/s]\u001b[A\n",
            " 84%|████████▍ | 16/19 [00:00<00:00, 20.37it/s]\u001b[A\n",
            "100%|██████████| 19/19 [00:01<00:00, 18.76it/s]\n",
            " 44%|████▍     | 22/50 [00:26<00:29,  1.05s/it]"
          ]
        },
        {
          "output_type": "stream",
          "name": "stdout",
          "text": [
            "Epoch:  22| Train loss: 6.60050\n"
          ]
        },
        {
          "output_type": "stream",
          "name": "stderr",
          "text": [
            "\n",
            "  0%|          | 0/19 [00:00<?, ?it/s]\u001b[A\n",
            "  5%|▌         | 1/19 [00:00<00:02,  8.49it/s]\u001b[A\n",
            " 21%|██        | 4/19 [00:00<00:00, 16.57it/s]\u001b[A\n",
            " 37%|███▋      | 7/19 [00:00<00:00, 18.74it/s]\u001b[A\n",
            " 53%|█████▎    | 10/19 [00:00<00:00, 19.67it/s]\u001b[A\n",
            " 68%|██████▊   | 13/19 [00:00<00:00, 20.17it/s]\u001b[A\n",
            " 84%|████████▍ | 16/19 [00:00<00:00, 20.45it/s]\u001b[A\n",
            "100%|██████████| 19/19 [00:01<00:00, 18.87it/s]\n",
            " 46%|████▌     | 23/50 [00:27<00:28,  1.04s/it]"
          ]
        },
        {
          "output_type": "stream",
          "name": "stdout",
          "text": [
            "Epoch:  23| Train loss: 6.56658\n"
          ]
        },
        {
          "output_type": "stream",
          "name": "stderr",
          "text": [
            "\n",
            "  0%|          | 0/19 [00:00<?, ?it/s]\u001b[A\n",
            "  5%|▌         | 1/19 [00:00<00:02,  6.84it/s]\u001b[A\n",
            " 21%|██        | 4/19 [00:00<00:00, 15.57it/s]\u001b[A\n",
            " 37%|███▋      | 7/19 [00:00<00:00, 18.03it/s]\u001b[A\n",
            " 53%|█████▎    | 10/19 [00:00<00:00, 19.38it/s]\u001b[A\n",
            " 68%|██████▊   | 13/19 [00:00<00:00, 19.99it/s]\u001b[A\n",
            " 84%|████████▍ | 16/19 [00:00<00:00, 20.36it/s]\u001b[A\n",
            "100%|██████████| 19/19 [00:01<00:00, 18.53it/s]\n",
            " 48%|████▊     | 24/50 [00:28<00:26,  1.04s/it]"
          ]
        },
        {
          "output_type": "stream",
          "name": "stdout",
          "text": [
            "Epoch:  24| Train loss: 6.46549\n"
          ]
        },
        {
          "output_type": "stream",
          "name": "stderr",
          "text": [
            "\n",
            "  0%|          | 0/19 [00:00<?, ?it/s]\u001b[A\n",
            "  5%|▌         | 1/19 [00:00<00:02,  8.57it/s]\u001b[A\n",
            " 21%|██        | 4/19 [00:00<00:00, 16.62it/s]\u001b[A\n",
            " 37%|███▋      | 7/19 [00:00<00:00, 18.61it/s]\u001b[A\n",
            " 53%|█████▎    | 10/19 [00:00<00:00, 19.68it/s]\u001b[A\n",
            " 68%|██████▊   | 13/19 [00:00<00:00, 20.13it/s]\u001b[A\n",
            " 84%|████████▍ | 16/19 [00:00<00:00, 20.40it/s]\u001b[A\n",
            "100%|██████████| 19/19 [00:01<00:00, 18.79it/s]\n",
            " 50%|█████     | 25/50 [00:29<00:25,  1.03s/it]"
          ]
        },
        {
          "output_type": "stream",
          "name": "stdout",
          "text": [
            "Epoch:  25| Train loss: 6.41187\n"
          ]
        },
        {
          "output_type": "stream",
          "name": "stderr",
          "text": [
            "\n",
            "  0%|          | 0/19 [00:00<?, ?it/s]\u001b[A\n",
            "  5%|▌         | 1/19 [00:00<00:02,  8.35it/s]\u001b[A\n",
            " 21%|██        | 4/19 [00:00<00:00, 16.93it/s]\u001b[A\n",
            " 37%|███▋      | 7/19 [00:00<00:00, 18.73it/s]\u001b[A\n",
            " 53%|█████▎    | 10/19 [00:00<00:00, 19.69it/s]\u001b[A\n",
            " 68%|██████▊   | 13/19 [00:00<00:00, 20.21it/s]\u001b[A\n",
            " 84%|████████▍ | 16/19 [00:00<00:00, 20.46it/s]\u001b[A\n",
            "100%|██████████| 19/19 [00:01<00:00, 18.84it/s]\n",
            " 52%|█████▏    | 26/50 [00:30<00:24,  1.03s/it]"
          ]
        },
        {
          "output_type": "stream",
          "name": "stdout",
          "text": [
            "Epoch:  26| Train loss: 6.38776\n"
          ]
        },
        {
          "output_type": "stream",
          "name": "stderr",
          "text": [
            "\n",
            "  0%|          | 0/19 [00:00<?, ?it/s]\u001b[A\n",
            "  5%|▌         | 1/19 [00:00<00:02,  8.09it/s]\u001b[A\n",
            " 21%|██        | 4/19 [00:00<00:00, 16.63it/s]\u001b[A\n",
            " 37%|███▋      | 7/19 [00:00<00:00, 18.58it/s]\u001b[A\n",
            " 53%|█████▎    | 10/19 [00:00<00:00, 19.72it/s]\u001b[A\n",
            " 68%|██████▊   | 13/19 [00:00<00:00, 20.13it/s]\u001b[A\n",
            " 84%|████████▍ | 16/19 [00:00<00:00, 20.49it/s]\u001b[A\n",
            "100%|██████████| 19/19 [00:01<00:00, 18.85it/s]\n",
            " 54%|█████▍    | 27/50 [00:31<00:23,  1.03s/it]"
          ]
        },
        {
          "output_type": "stream",
          "name": "stdout",
          "text": [
            "Epoch:  27| Train loss: 6.23739\n"
          ]
        },
        {
          "output_type": "stream",
          "name": "stderr",
          "text": [
            "\n",
            "  0%|          | 0/19 [00:00<?, ?it/s]\u001b[A\n",
            "  5%|▌         | 1/19 [00:00<00:02,  8.29it/s]\u001b[A\n",
            " 21%|██        | 4/19 [00:00<00:00, 16.78it/s]\u001b[A\n",
            " 37%|███▋      | 7/19 [00:00<00:00, 18.74it/s]\u001b[A\n",
            " 53%|█████▎    | 10/19 [00:00<00:00, 19.66it/s]\u001b[A\n",
            " 68%|██████▊   | 13/19 [00:00<00:00, 20.17it/s]\u001b[A\n",
            " 84%|████████▍ | 16/19 [00:00<00:00, 20.45it/s]\u001b[A\n",
            "100%|██████████| 19/19 [00:01<00:00, 18.85it/s]\n",
            " 56%|█████▌    | 28/50 [00:32<00:22,  1.02s/it]"
          ]
        },
        {
          "output_type": "stream",
          "name": "stdout",
          "text": [
            "Epoch:  28| Train loss: 6.25224\n"
          ]
        },
        {
          "output_type": "stream",
          "name": "stderr",
          "text": [
            "\n",
            "  0%|          | 0/19 [00:00<?, ?it/s]\u001b[A\n",
            "  5%|▌         | 1/19 [00:00<00:03,  5.85it/s]\u001b[A\n",
            " 16%|█▌        | 3/19 [00:00<00:01, 11.93it/s]\u001b[A\n",
            " 26%|██▋       | 5/19 [00:00<00:00, 15.05it/s]\u001b[A\n",
            " 37%|███▋      | 7/19 [00:00<00:00, 16.53it/s]\u001b[A\n",
            " 53%|█████▎    | 10/19 [00:00<00:00, 18.34it/s]\u001b[A\n",
            " 63%|██████▎   | 12/19 [00:00<00:00, 18.64it/s]\u001b[A\n",
            " 79%|███████▉  | 15/19 [00:00<00:00, 19.47it/s]\u001b[A\n",
            "100%|██████████| 19/19 [00:01<00:00, 17.00it/s]\n",
            " 58%|█████▊    | 29/50 [00:33<00:22,  1.05s/it]"
          ]
        },
        {
          "output_type": "stream",
          "name": "stdout",
          "text": [
            "Epoch:  29| Train loss: 6.18601\n"
          ]
        },
        {
          "output_type": "stream",
          "name": "stderr",
          "text": [
            "\n",
            "  0%|          | 0/19 [00:00<?, ?it/s]\u001b[A\n",
            "  5%|▌         | 1/19 [00:00<00:03,  5.22it/s]\u001b[A\n",
            " 21%|██        | 4/19 [00:00<00:01, 13.55it/s]\u001b[A\n",
            " 37%|███▋      | 7/19 [00:00<00:00, 16.57it/s]\u001b[A\n",
            " 53%|█████▎    | 10/19 [00:00<00:00, 18.23it/s]\u001b[A\n",
            " 63%|██████▎   | 12/19 [00:00<00:00, 18.31it/s]\u001b[A\n",
            " 79%|███████▉  | 15/19 [00:00<00:00, 19.36it/s]\u001b[A\n",
            "100%|██████████| 19/19 [00:01<00:00, 17.00it/s]\n",
            " 60%|██████    | 30/50 [00:34<00:21,  1.08s/it]"
          ]
        },
        {
          "output_type": "stream",
          "name": "stdout",
          "text": [
            "Epoch:  30| Train loss: 6.12804\n"
          ]
        },
        {
          "output_type": "stream",
          "name": "stderr",
          "text": [
            "\n",
            "  0%|          | 0/19 [00:00<?, ?it/s]\u001b[A\n",
            "  5%|▌         | 1/19 [00:00<00:03,  5.20it/s]\u001b[A\n",
            " 16%|█▌        | 3/19 [00:00<00:01, 11.49it/s]\u001b[A\n",
            " 32%|███▏      | 6/19 [00:00<00:00, 15.75it/s]\u001b[A\n",
            " 42%|████▏     | 8/19 [00:00<00:00, 17.02it/s]\u001b[A\n",
            " 58%|█████▊    | 11/19 [00:00<00:00, 18.54it/s]\u001b[A\n",
            " 74%|███████▎  | 14/19 [00:00<00:00, 19.08it/s]\u001b[A\n",
            "100%|██████████| 19/19 [00:01<00:00, 16.89it/s]\n",
            " 62%|██████▏   | 31/50 [00:35<00:20,  1.09s/it]"
          ]
        },
        {
          "output_type": "stream",
          "name": "stdout",
          "text": [
            "Epoch:  31| Train loss: 6.10470\n"
          ]
        },
        {
          "output_type": "stream",
          "name": "stderr",
          "text": [
            "\n",
            "  0%|          | 0/19 [00:00<?, ?it/s]\u001b[A\n",
            "  5%|▌         | 1/19 [00:00<00:02,  6.04it/s]\u001b[A\n",
            " 16%|█▌        | 3/19 [00:00<00:01, 12.31it/s]\u001b[A\n",
            " 26%|██▋       | 5/19 [00:00<00:00, 15.21it/s]\u001b[A\n",
            " 37%|███▋      | 7/19 [00:00<00:00, 16.86it/s]\u001b[A\n",
            " 47%|████▋     | 9/19 [00:00<00:00, 17.85it/s]\u001b[A\n",
            " 58%|█████▊    | 11/19 [00:00<00:00, 18.43it/s]\u001b[A\n",
            " 74%|███████▎  | 14/19 [00:00<00:00, 19.07it/s]\u001b[A\n",
            "100%|██████████| 19/19 [00:01<00:00, 16.86it/s]\n",
            " 64%|██████▍   | 32/50 [00:37<00:19,  1.11s/it]"
          ]
        },
        {
          "output_type": "stream",
          "name": "stdout",
          "text": [
            "Epoch:  32| Train loss: 6.03737\n"
          ]
        },
        {
          "output_type": "stream",
          "name": "stderr",
          "text": [
            "\n",
            "  0%|          | 0/19 [00:00<?, ?it/s]\u001b[A\n",
            "  5%|▌         | 1/19 [00:00<00:03,  5.49it/s]\u001b[A\n",
            " 21%|██        | 4/19 [00:00<00:01, 13.84it/s]\u001b[A\n",
            " 37%|███▋      | 7/19 [00:00<00:00, 16.88it/s]\u001b[A\n",
            " 53%|█████▎    | 10/19 [00:00<00:00, 18.45it/s]\u001b[A\n",
            " 68%|██████▊   | 13/19 [00:00<00:00, 19.26it/s]\u001b[A\n",
            " 84%|████████▍ | 16/19 [00:00<00:00, 19.89it/s]\u001b[A\n",
            "100%|██████████| 19/19 [00:01<00:00, 17.62it/s]\n",
            " 66%|██████▌   | 33/50 [00:38<00:18,  1.10s/it]"
          ]
        },
        {
          "output_type": "stream",
          "name": "stdout",
          "text": [
            "Epoch:  33| Train loss: 5.99421\n"
          ]
        },
        {
          "output_type": "stream",
          "name": "stderr",
          "text": [
            "\n",
            "  0%|          | 0/19 [00:00<?, ?it/s]\u001b[A\n",
            "  5%|▌         | 1/19 [00:00<00:02,  8.45it/s]\u001b[A\n",
            " 21%|██        | 4/19 [00:00<00:00, 16.80it/s]\u001b[A\n",
            " 37%|███▋      | 7/19 [00:00<00:00, 18.81it/s]\u001b[A\n",
            " 53%|█████▎    | 10/19 [00:00<00:00, 19.59it/s]\u001b[A\n",
            " 68%|██████▊   | 13/19 [00:00<00:00, 19.91it/s]\u001b[A\n",
            " 84%|████████▍ | 16/19 [00:00<00:00, 20.38it/s]\u001b[A\n",
            "100%|██████████| 19/19 [00:01<00:00, 18.80it/s]\n",
            " 68%|██████▊   | 34/50 [00:39<00:17,  1.08s/it]"
          ]
        },
        {
          "output_type": "stream",
          "name": "stdout",
          "text": [
            "Epoch:  34| Train loss: 5.91447\n"
          ]
        },
        {
          "output_type": "stream",
          "name": "stderr",
          "text": [
            "\n",
            "  0%|          | 0/19 [00:00<?, ?it/s]\u001b[A\n",
            "  5%|▌         | 1/19 [00:00<00:02,  8.04it/s]\u001b[A\n",
            " 21%|██        | 4/19 [00:00<00:00, 16.51it/s]\u001b[A\n",
            " 37%|███▋      | 7/19 [00:00<00:00, 18.63it/s]\u001b[A\n",
            " 53%|█████▎    | 10/19 [00:00<00:00, 19.37it/s]\u001b[A\n",
            " 68%|██████▊   | 13/19 [00:00<00:00, 19.89it/s]\u001b[A\n",
            " 84%|████████▍ | 16/19 [00:00<00:00, 20.27it/s]\u001b[A\n",
            "100%|██████████| 19/19 [00:01<00:00, 18.62it/s]\n",
            " 70%|███████   | 35/50 [00:40<00:15,  1.07s/it]"
          ]
        },
        {
          "output_type": "stream",
          "name": "stdout",
          "text": [
            "Epoch:  35| Train loss: 5.88487\n"
          ]
        },
        {
          "output_type": "stream",
          "name": "stderr",
          "text": [
            "\n",
            "  0%|          | 0/19 [00:00<?, ?it/s]\u001b[A\n",
            "  5%|▌         | 1/19 [00:00<00:02,  8.35it/s]\u001b[A\n",
            " 21%|██        | 4/19 [00:00<00:00, 16.74it/s]\u001b[A\n",
            " 37%|███▋      | 7/19 [00:00<00:00, 18.60it/s]\u001b[A\n",
            " 53%|█████▎    | 10/19 [00:00<00:00, 19.49it/s]\u001b[A\n",
            " 68%|██████▊   | 13/19 [00:00<00:00, 19.93it/s]\u001b[A\n",
            " 84%|████████▍ | 16/19 [00:00<00:00, 20.19it/s]\u001b[A\n",
            "100%|██████████| 19/19 [00:01<00:00, 18.67it/s]\n",
            " 72%|███████▏  | 36/50 [00:41<00:14,  1.05s/it]"
          ]
        },
        {
          "output_type": "stream",
          "name": "stdout",
          "text": [
            "Epoch:  36| Train loss: 5.85541\n"
          ]
        },
        {
          "output_type": "stream",
          "name": "stderr",
          "text": [
            "\n",
            "  0%|          | 0/19 [00:00<?, ?it/s]\u001b[A\n",
            "  5%|▌         | 1/19 [00:00<00:02,  8.21it/s]\u001b[A\n",
            " 21%|██        | 4/19 [00:00<00:00, 16.75it/s]\u001b[A\n",
            " 37%|███▋      | 7/19 [00:00<00:00, 18.74it/s]\u001b[A\n",
            " 53%|█████▎    | 10/19 [00:00<00:00, 19.51it/s]\u001b[A\n",
            " 68%|██████▊   | 13/19 [00:00<00:00, 19.94it/s]\u001b[A\n",
            " 84%|████████▍ | 16/19 [00:00<00:00, 20.23it/s]\u001b[A\n",
            "100%|██████████| 19/19 [00:01<00:00, 18.73it/s]\n",
            " 74%|███████▍  | 37/50 [00:42<00:13,  1.05s/it]"
          ]
        },
        {
          "output_type": "stream",
          "name": "stdout",
          "text": [
            "Epoch:  37| Train loss: 5.77801\n"
          ]
        },
        {
          "output_type": "stream",
          "name": "stderr",
          "text": [
            "\n",
            "  0%|          | 0/19 [00:00<?, ?it/s]\u001b[A\n",
            "  5%|▌         | 1/19 [00:00<00:02,  8.24it/s]\u001b[A\n",
            " 21%|██        | 4/19 [00:00<00:00, 16.39it/s]\u001b[A\n",
            " 37%|███▋      | 7/19 [00:00<00:00, 18.48it/s]\u001b[A\n",
            " 53%|█████▎    | 10/19 [00:00<00:00, 19.35it/s]\u001b[A\n",
            " 68%|██████▊   | 13/19 [00:00<00:00, 19.90it/s]\u001b[A\n",
            " 84%|████████▍ | 16/19 [00:00<00:00, 20.21it/s]\u001b[A\n",
            "100%|██████████| 19/19 [00:01<00:00, 18.64it/s]\n",
            " 76%|███████▌  | 38/50 [00:43<00:12,  1.04s/it]"
          ]
        },
        {
          "output_type": "stream",
          "name": "stdout",
          "text": [
            "Epoch:  38| Train loss: 5.79758\n"
          ]
        },
        {
          "output_type": "stream",
          "name": "stderr",
          "text": [
            "\n",
            "  0%|          | 0/19 [00:00<?, ?it/s]\u001b[A\n",
            "  5%|▌         | 1/19 [00:00<00:02,  8.02it/s]\u001b[A\n",
            " 21%|██        | 4/19 [00:00<00:00, 16.41it/s]\u001b[A\n",
            " 37%|███▋      | 7/19 [00:00<00:00, 18.59it/s]\u001b[A\n",
            " 53%|█████▎    | 10/19 [00:00<00:00, 19.32it/s]\u001b[A\n",
            " 68%|██████▊   | 13/19 [00:00<00:00, 19.96it/s]\u001b[A\n",
            " 84%|████████▍ | 16/19 [00:00<00:00, 20.28it/s]\u001b[A\n",
            "100%|██████████| 19/19 [00:01<00:00, 18.66it/s]\n",
            " 78%|███████▊  | 39/50 [00:44<00:11,  1.04s/it]"
          ]
        },
        {
          "output_type": "stream",
          "name": "stdout",
          "text": [
            "Epoch:  39| Train loss: 5.63477\n"
          ]
        },
        {
          "output_type": "stream",
          "name": "stderr",
          "text": [
            "\n",
            "  0%|          | 0/19 [00:00<?, ?it/s]\u001b[A\n",
            "  5%|▌         | 1/19 [00:00<00:02,  8.10it/s]\u001b[A\n",
            " 21%|██        | 4/19 [00:00<00:00, 16.65it/s]\u001b[A\n",
            " 32%|███▏      | 6/19 [00:00<00:00, 17.96it/s]\u001b[A\n",
            " 47%|████▋     | 9/19 [00:00<00:00, 19.43it/s]\u001b[A\n",
            " 63%|██████▎   | 12/19 [00:00<00:00, 20.07it/s]\u001b[A\n",
            " 79%|███████▉  | 15/19 [00:00<00:00, 20.29it/s]\u001b[A\n",
            "100%|██████████| 19/19 [00:01<00:00, 18.82it/s]\n",
            " 80%|████████  | 40/50 [00:45<00:10,  1.03s/it]"
          ]
        },
        {
          "output_type": "stream",
          "name": "stdout",
          "text": [
            "Epoch:  40| Train loss: 5.65801\n"
          ]
        },
        {
          "output_type": "stream",
          "name": "stderr",
          "text": [
            "\n",
            "  0%|          | 0/19 [00:00<?, ?it/s]\u001b[A\n",
            "  5%|▌         | 1/19 [00:00<00:02,  7.68it/s]\u001b[A\n",
            " 21%|██        | 4/19 [00:00<00:00, 16.36it/s]\u001b[A\n",
            " 37%|███▋      | 7/19 [00:00<00:00, 18.49it/s]\u001b[A\n",
            " 53%|█████▎    | 10/19 [00:00<00:00, 19.34it/s]\u001b[A\n",
            " 68%|██████▊   | 13/19 [00:00<00:00, 19.95it/s]\u001b[A\n",
            " 84%|████████▍ | 16/19 [00:00<00:00, 20.26it/s]\u001b[A\n",
            "100%|██████████| 19/19 [00:01<00:00, 18.45it/s]\n",
            " 82%|████████▏ | 41/50 [00:46<00:09,  1.04s/it]"
          ]
        },
        {
          "output_type": "stream",
          "name": "stdout",
          "text": [
            "Epoch:  41| Train loss: 5.62368\n"
          ]
        },
        {
          "output_type": "stream",
          "name": "stderr",
          "text": [
            "\n",
            "  0%|          | 0/19 [00:00<?, ?it/s]\u001b[A\n",
            "  5%|▌         | 1/19 [00:00<00:02,  7.61it/s]\u001b[A\n",
            " 21%|██        | 4/19 [00:00<00:00, 15.95it/s]\u001b[A\n",
            " 37%|███▋      | 7/19 [00:00<00:00, 18.19it/s]\u001b[A\n",
            " 53%|█████▎    | 10/19 [00:00<00:00, 19.28it/s]\u001b[A\n",
            " 68%|██████▊   | 13/19 [00:00<00:00, 19.82it/s]\u001b[A\n",
            " 84%|████████▍ | 16/19 [00:00<00:00, 20.11it/s]\u001b[A\n",
            "100%|██████████| 19/19 [00:01<00:00, 17.95it/s]\n",
            " 84%|████████▍ | 42/50 [00:47<00:08,  1.05s/it]"
          ]
        },
        {
          "output_type": "stream",
          "name": "stdout",
          "text": [
            "Epoch:  42| Train loss: 5.59987\n"
          ]
        },
        {
          "output_type": "stream",
          "name": "stderr",
          "text": [
            "\n",
            "  0%|          | 0/19 [00:00<?, ?it/s]\u001b[A\n",
            "  5%|▌         | 1/19 [00:00<00:03,  5.46it/s]\u001b[A\n",
            " 21%|██        | 4/19 [00:00<00:01, 13.94it/s]\u001b[A\n",
            " 32%|███▏      | 6/19 [00:00<00:00, 15.58it/s]\u001b[A\n",
            " 47%|████▋     | 9/19 [00:00<00:00, 17.62it/s]\u001b[A\n",
            " 63%|██████▎   | 12/19 [00:00<00:00, 18.83it/s]\u001b[A\n",
            " 74%|███████▎  | 14/19 [00:00<00:00, 19.11it/s]\u001b[A\n",
            " 84%|████████▍ | 16/19 [00:00<00:00, 19.27it/s]\u001b[A\n",
            "100%|██████████| 19/19 [00:01<00:00, 16.83it/s]\n",
            " 86%|████████▌ | 43/50 [00:48<00:07,  1.07s/it]"
          ]
        },
        {
          "output_type": "stream",
          "name": "stdout",
          "text": [
            "Epoch:  43| Train loss: 5.53952\n"
          ]
        },
        {
          "output_type": "stream",
          "name": "stderr",
          "text": [
            "\n",
            "  0%|          | 0/19 [00:00<?, ?it/s]\u001b[A\n",
            "  5%|▌         | 1/19 [00:00<00:02,  7.16it/s]\u001b[A\n",
            " 16%|█▌        | 3/19 [00:00<00:01, 11.79it/s]\u001b[A\n",
            " 26%|██▋       | 5/19 [00:00<00:00, 14.31it/s]\u001b[A\n",
            " 42%|████▏     | 8/19 [00:00<00:00, 16.98it/s]\u001b[A\n",
            " 58%|█████▊    | 11/19 [00:00<00:00, 18.32it/s]\u001b[A\n",
            " 68%|██████▊   | 13/19 [00:00<00:00, 18.46it/s]\u001b[A\n",
            " 84%|████████▍ | 16/19 [00:00<00:00, 19.26it/s]\u001b[A\n",
            "100%|██████████| 19/19 [00:01<00:00, 16.69it/s]\n",
            " 88%|████████▊ | 44/50 [00:49<00:06,  1.10s/it]"
          ]
        },
        {
          "output_type": "stream",
          "name": "stdout",
          "text": [
            "Epoch:  44| Train loss: 5.47919\n"
          ]
        },
        {
          "output_type": "stream",
          "name": "stderr",
          "text": [
            "\n",
            "  0%|          | 0/19 [00:00<?, ?it/s]\u001b[A\n",
            "  5%|▌         | 1/19 [00:00<00:03,  5.37it/s]\u001b[A\n",
            " 16%|█▌        | 3/19 [00:00<00:01, 11.20it/s]\u001b[A\n",
            " 32%|███▏      | 6/19 [00:00<00:00, 15.50it/s]\u001b[A\n",
            " 47%|████▋     | 9/19 [00:00<00:00, 17.51it/s]\u001b[A\n",
            " 58%|█████▊    | 11/19 [00:00<00:00, 18.14it/s]\u001b[A\n",
            " 74%|███████▎  | 14/19 [00:00<00:00, 19.04it/s]\u001b[A\n",
            "100%|██████████| 19/19 [00:01<00:00, 16.84it/s]\n",
            " 90%|█████████ | 45/50 [00:50<00:05,  1.11s/it]"
          ]
        },
        {
          "output_type": "stream",
          "name": "stdout",
          "text": [
            "Epoch:  45| Train loss: 5.42281\n"
          ]
        },
        {
          "output_type": "stream",
          "name": "stderr",
          "text": [
            "\n",
            "  0%|          | 0/19 [00:00<?, ?it/s]\u001b[A\n",
            "  5%|▌         | 1/19 [00:00<00:03,  5.21it/s]\u001b[A\n",
            " 16%|█▌        | 3/19 [00:00<00:01, 11.04it/s]\u001b[A\n",
            " 32%|███▏      | 6/19 [00:00<00:00, 15.48it/s]\u001b[A\n",
            " 42%|████▏     | 8/19 [00:00<00:00, 16.81it/s]\u001b[A\n",
            " 58%|█████▊    | 11/19 [00:00<00:00, 18.33it/s]\u001b[A\n",
            " 74%|███████▎  | 14/19 [00:00<00:00, 19.21it/s]\u001b[A\n",
            "100%|██████████| 19/19 [00:01<00:00, 17.13it/s]\n",
            " 92%|█████████▏| 46/50 [00:52<00:04,  1.11s/it]"
          ]
        },
        {
          "output_type": "stream",
          "name": "stdout",
          "text": [
            "Epoch:  46| Train loss: 5.37474\n"
          ]
        },
        {
          "output_type": "stream",
          "name": "stderr",
          "text": [
            "\n",
            "  0%|          | 0/19 [00:00<?, ?it/s]\u001b[A\n",
            "  5%|▌         | 1/19 [00:00<00:02,  8.34it/s]\u001b[A\n",
            " 21%|██        | 4/19 [00:00<00:00, 16.81it/s]\u001b[A\n",
            " 37%|███▋      | 7/19 [00:00<00:00, 18.62it/s]\u001b[A\n",
            " 53%|█████▎    | 10/19 [00:00<00:00, 19.14it/s]\u001b[A\n",
            " 68%|██████▊   | 13/19 [00:00<00:00, 19.92it/s]\u001b[A\n",
            " 84%|████████▍ | 16/19 [00:00<00:00, 20.01it/s]\u001b[A\n",
            "100%|██████████| 19/19 [00:01<00:00, 18.56it/s]\n",
            " 94%|█████████▍| 47/50 [00:53<00:03,  1.09s/it]"
          ]
        },
        {
          "output_type": "stream",
          "name": "stdout",
          "text": [
            "Epoch:  47| Train loss: 5.42534\n"
          ]
        },
        {
          "output_type": "stream",
          "name": "stderr",
          "text": [
            "\n",
            "  0%|          | 0/19 [00:00<?, ?it/s]\u001b[A\n",
            "  5%|▌         | 1/19 [00:00<00:02,  8.04it/s]\u001b[A\n",
            " 21%|██        | 4/19 [00:00<00:00, 16.61it/s]\u001b[A\n",
            " 37%|███▋      | 7/19 [00:00<00:00, 18.58it/s]\u001b[A\n",
            " 53%|█████▎    | 10/19 [00:00<00:00, 19.37it/s]\u001b[A\n",
            " 68%|██████▊   | 13/19 [00:00<00:00, 19.85it/s]\u001b[A\n",
            " 79%|███████▉  | 15/19 [00:00<00:00, 19.84it/s]\u001b[A\n",
            "100%|██████████| 19/19 [00:01<00:00, 18.68it/s]\n",
            " 96%|█████████▌| 48/50 [00:54<00:02,  1.07s/it]"
          ]
        },
        {
          "output_type": "stream",
          "name": "stdout",
          "text": [
            "Epoch:  48| Train loss: 5.32510\n"
          ]
        },
        {
          "output_type": "stream",
          "name": "stderr",
          "text": [
            "\n",
            "  0%|          | 0/19 [00:00<?, ?it/s]\u001b[A\n",
            "  5%|▌         | 1/19 [00:00<00:02,  7.80it/s]\u001b[A\n",
            " 21%|██        | 4/19 [00:00<00:00, 16.24it/s]\u001b[A\n",
            " 37%|███▋      | 7/19 [00:00<00:00, 18.30it/s]\u001b[A\n",
            " 53%|█████▎    | 10/19 [00:00<00:00, 19.23it/s]\u001b[A\n",
            " 68%|██████▊   | 13/19 [00:00<00:00, 19.80it/s]\u001b[A\n",
            " 79%|███████▉  | 15/19 [00:00<00:00, 19.84it/s]\u001b[A\n",
            "100%|██████████| 19/19 [00:01<00:00, 18.56it/s]\n",
            " 98%|█████████▊| 49/50 [00:55<00:01,  1.06s/it]"
          ]
        },
        {
          "output_type": "stream",
          "name": "stdout",
          "text": [
            "Epoch:  49| Train loss: 5.29390\n"
          ]
        },
        {
          "output_type": "stream",
          "name": "stderr",
          "text": [
            "\n",
            "  0%|          | 0/19 [00:00<?, ?it/s]\u001b[A\n",
            "  5%|▌         | 1/19 [00:00<00:02,  7.97it/s]\u001b[A\n",
            " 21%|██        | 4/19 [00:00<00:00, 16.17it/s]\u001b[A\n",
            " 37%|███▋      | 7/19 [00:00<00:00, 18.43it/s]\u001b[A\n",
            " 53%|█████▎    | 10/19 [00:00<00:00, 19.34it/s]\u001b[A\n",
            " 68%|██████▊   | 13/19 [00:00<00:00, 19.78it/s]\u001b[A\n",
            " 84%|████████▍ | 16/19 [00:00<00:00, 20.09it/s]\u001b[A\n",
            "100%|██████████| 19/19 [00:01<00:00, 18.49it/s]\n",
            "100%|██████████| 50/50 [00:56<00:00,  1.12s/it]"
          ]
        },
        {
          "output_type": "stream",
          "name": "stdout",
          "text": [
            "Epoch:  50| Train loss: 5.24356\n"
          ]
        },
        {
          "output_type": "stream",
          "name": "stderr",
          "text": [
            "\n"
          ]
        }
      ],
      "source": [
        "for epoch in tqdm(range(1, config['num_epochs'] + 1)):\n",
        "    train_loss = train(\n",
        "        model = model,\n",
        "        criterion = criterion,\n",
        "        optimizer = optimizer,\n",
        "        data_loader = data_loader)\n",
        "\n",
        "    print(f'Epoch: {epoch:3d}| Train loss: {train_loss:.5f}')\n"
      ]
    },
    {
      "cell_type": "code",
      "execution_count": null,
      "metadata": {
        "id": "5m7JNULl5qZB"
      },
      "outputs": [],
      "source": [
        "torch.save(model, 'drive/MyDrive/Netology/bert4rec_50.pth')"
      ]
    },
    {
      "cell_type": "code",
      "execution_count": 39,
      "metadata": {
        "id": "QeTxLlR16CgH"
      },
      "outputs": [],
      "source": [
        "model = torch.load('drive/MyDrive/Netology/bert4rec_50.pth', map_location=torch.device(\"cpu\"))"
      ]
    },
    {
      "cell_type": "code",
      "execution_count": 40,
      "metadata": {
        "id": "WjKhyHzimmPl"
      },
      "outputs": [],
      "source": [
        "def recomendation(user_id, k, model=model, user_train = user_train, user_valid = user_valid, max_len = config['max_len'],\n",
        "                  data_loader = None, make_sequence_dataset = make_sequence_dataset, bert4rec_dataset = bert4rec_dataset):\n",
        "\n",
        "  num_item_sample = 100\n",
        "  rec_list = []\n",
        "  model.eval()\n",
        "  seq = (user_train[user_id] + [make_sequence_dataset.num_item + 1])[-max_len:] # mask last token\n",
        "  padding_len = max_len - len(seq)\n",
        "  seq = [0] * padding_len + seq\n",
        "  rated = user_train[user_id] + user_valid[user_id]\n",
        "  items = user_valid[user_id] + bert4rec_dataset.random_neg_sampling(rated_item = rated, num_item_sample = num_item_sample)\n",
        "\n",
        "  with torch.no_grad():\n",
        "    seq = torch.LongTensor([seq]).to(device)\n",
        "    predictions = -model(seq)\n",
        "    labels = user_valid[user_id]\n",
        "    predictions1 = predictions[0][-1][items] # sampling предсказание по количеству items  по юзеру (100 значений)\n",
        "    rank = predictions1.argsort().argsort()[0].item() # label порядковый номер в отсортированном списке рекомендаций\n",
        "    best_indexes = predictions1.argsort()[:k] #первые k значений\n",
        "    for i in best_indexes:\n",
        "        rec_list.append(items[i])\n",
        "\n",
        "  return labels, rec_list, rank"
      ]
    },
    {
      "cell_type": "code",
      "source": [
        "recomendation(1784, 10)"
      ],
      "metadata": {
        "colab": {
          "base_uri": "https://localhost:8080/"
        },
        "id": "okuAPi5Ca-PG",
        "outputId": "58e7a5d6-7931-4a1f-dc38-e88e597146b0"
      },
      "execution_count": 42,
      "outputs": [
        {
          "output_type": "execute_result",
          "data": {
            "text/plain": [
              "([2497], [3603, 3684, 2709, 4333, 3111, 177, 4200, 2230, 4360, 3509], 54)"
            ]
          },
          "metadata": {},
          "execution_count": 42
        }
      ]
    },
    {
      "cell_type": "code",
      "source": [
        "#создадим таблицу данных: пользователь - настоящее значение - 20 предсказанных значений - порядковый номер настоящего значения с отсортированнойм списке предсказаний"
      ],
      "metadata": {
        "id": "B-6_fPB9kBOr"
      },
      "execution_count": null,
      "outputs": []
    },
    {
      "cell_type": "code",
      "execution_count": 43,
      "metadata": {
        "colab": {
          "base_uri": "https://localhost:8080/"
        },
        "id": "0ag25u0Ce8he",
        "outputId": "44ec975f-b919-4e21-a78a-1c4366005502"
      },
      "outputs": [
        {
          "output_type": "stream",
          "name": "stderr",
          "text": [
            "100%|██████████| 2380/2380 [00:32<00:00, 74.01it/s]\n"
          ]
        }
      ],
      "source": [
        "users = [user for user in range(make_sequence_dataset.num_user)]\n",
        "data2 = []\n",
        "for user in tqdm(users):\n",
        "    rec = recomendation(user,20)\n",
        "    data2.append((user, rec[0], rec[1], rec[2]) )"
      ]
    },
    {
      "cell_type": "code",
      "source": [
        "data = pd.DataFrame(data2)\n",
        "data.columns  = ['user_id', 'actual', 'predicted', 'rank']\n",
        "data.head()"
      ],
      "metadata": {
        "colab": {
          "base_uri": "https://localhost:8080/",
          "height": 204
        },
        "id": "5ivYz6pFkxgi",
        "outputId": "23008f4f-6845-4100-a66a-03cda334ff40"
      },
      "execution_count": 44,
      "outputs": [
        {
          "output_type": "execute_result",
          "data": {
            "text/plain": [
              "   user_id  actual                                          predicted  rank\n",
              "0        0  [1031]  [4023, 1589, 4039, 518, 2996, 3251, 4582, 1031...     7\n",
              "1        1  [3712]  [4084, 1297, 1447, 4178, 2062, 2702, 3712, 388...     6\n",
              "2        2  [4449]  [4687, 117, 4379, 4631, 777, 775, 297, 4319, 9...    14\n",
              "3        3  [3959]  [2824, 4287, 4372, 4061, 2711, 3180, 3885, 276...    13\n",
              "4        4  [3593]  [4098, 558, 4071, 245, 4615, 4432, 4593, 3392,...    22"
            ],
            "text/html": [
              "\n",
              "  <div id=\"df-f18ad051-9e20-4d66-a1b9-3eec08e38fc9\" class=\"colab-df-container\">\n",
              "    <div>\n",
              "<style scoped>\n",
              "    .dataframe tbody tr th:only-of-type {\n",
              "        vertical-align: middle;\n",
              "    }\n",
              "\n",
              "    .dataframe tbody tr th {\n",
              "        vertical-align: top;\n",
              "    }\n",
              "\n",
              "    .dataframe thead th {\n",
              "        text-align: right;\n",
              "    }\n",
              "</style>\n",
              "<table border=\"1\" class=\"dataframe\">\n",
              "  <thead>\n",
              "    <tr style=\"text-align: right;\">\n",
              "      <th></th>\n",
              "      <th>user_id</th>\n",
              "      <th>actual</th>\n",
              "      <th>predicted</th>\n",
              "      <th>rank</th>\n",
              "    </tr>\n",
              "  </thead>\n",
              "  <tbody>\n",
              "    <tr>\n",
              "      <th>0</th>\n",
              "      <td>0</td>\n",
              "      <td>[1031]</td>\n",
              "      <td>[4023, 1589, 4039, 518, 2996, 3251, 4582, 1031...</td>\n",
              "      <td>7</td>\n",
              "    </tr>\n",
              "    <tr>\n",
              "      <th>1</th>\n",
              "      <td>1</td>\n",
              "      <td>[3712]</td>\n",
              "      <td>[4084, 1297, 1447, 4178, 2062, 2702, 3712, 388...</td>\n",
              "      <td>6</td>\n",
              "    </tr>\n",
              "    <tr>\n",
              "      <th>2</th>\n",
              "      <td>2</td>\n",
              "      <td>[4449]</td>\n",
              "      <td>[4687, 117, 4379, 4631, 777, 775, 297, 4319, 9...</td>\n",
              "      <td>14</td>\n",
              "    </tr>\n",
              "    <tr>\n",
              "      <th>3</th>\n",
              "      <td>3</td>\n",
              "      <td>[3959]</td>\n",
              "      <td>[2824, 4287, 4372, 4061, 2711, 3180, 3885, 276...</td>\n",
              "      <td>13</td>\n",
              "    </tr>\n",
              "    <tr>\n",
              "      <th>4</th>\n",
              "      <td>4</td>\n",
              "      <td>[3593]</td>\n",
              "      <td>[4098, 558, 4071, 245, 4615, 4432, 4593, 3392,...</td>\n",
              "      <td>22</td>\n",
              "    </tr>\n",
              "  </tbody>\n",
              "</table>\n",
              "</div>\n",
              "    <div class=\"colab-df-buttons\">\n",
              "\n",
              "  <div class=\"colab-df-container\">\n",
              "    <button class=\"colab-df-convert\" onclick=\"convertToInteractive('df-f18ad051-9e20-4d66-a1b9-3eec08e38fc9')\"\n",
              "            title=\"Convert this dataframe to an interactive table.\"\n",
              "            style=\"display:none;\">\n",
              "\n",
              "  <svg xmlns=\"http://www.w3.org/2000/svg\" height=\"24px\" viewBox=\"0 -960 960 960\">\n",
              "    <path d=\"M120-120v-720h720v720H120Zm60-500h600v-160H180v160Zm220 220h160v-160H400v160Zm0 220h160v-160H400v160ZM180-400h160v-160H180v160Zm440 0h160v-160H620v160ZM180-180h160v-160H180v160Zm440 0h160v-160H620v160Z\"/>\n",
              "  </svg>\n",
              "    </button>\n",
              "\n",
              "  <style>\n",
              "    .colab-df-container {\n",
              "      display:flex;\n",
              "      gap: 12px;\n",
              "    }\n",
              "\n",
              "    .colab-df-convert {\n",
              "      background-color: #E8F0FE;\n",
              "      border: none;\n",
              "      border-radius: 50%;\n",
              "      cursor: pointer;\n",
              "      display: none;\n",
              "      fill: #1967D2;\n",
              "      height: 32px;\n",
              "      padding: 0 0 0 0;\n",
              "      width: 32px;\n",
              "    }\n",
              "\n",
              "    .colab-df-convert:hover {\n",
              "      background-color: #E2EBFA;\n",
              "      box-shadow: 0px 1px 2px rgba(60, 64, 67, 0.3), 0px 1px 3px 1px rgba(60, 64, 67, 0.15);\n",
              "      fill: #174EA6;\n",
              "    }\n",
              "\n",
              "    .colab-df-buttons div {\n",
              "      margin-bottom: 4px;\n",
              "    }\n",
              "\n",
              "    [theme=dark] .colab-df-convert {\n",
              "      background-color: #3B4455;\n",
              "      fill: #D2E3FC;\n",
              "    }\n",
              "\n",
              "    [theme=dark] .colab-df-convert:hover {\n",
              "      background-color: #434B5C;\n",
              "      box-shadow: 0px 1px 3px 1px rgba(0, 0, 0, 0.15);\n",
              "      filter: drop-shadow(0px 1px 2px rgba(0, 0, 0, 0.3));\n",
              "      fill: #FFFFFF;\n",
              "    }\n",
              "  </style>\n",
              "\n",
              "    <script>\n",
              "      const buttonEl =\n",
              "        document.querySelector('#df-f18ad051-9e20-4d66-a1b9-3eec08e38fc9 button.colab-df-convert');\n",
              "      buttonEl.style.display =\n",
              "        google.colab.kernel.accessAllowed ? 'block' : 'none';\n",
              "\n",
              "      async function convertToInteractive(key) {\n",
              "        const element = document.querySelector('#df-f18ad051-9e20-4d66-a1b9-3eec08e38fc9');\n",
              "        const dataTable =\n",
              "          await google.colab.kernel.invokeFunction('convertToInteractive',\n",
              "                                                    [key], {});\n",
              "        if (!dataTable) return;\n",
              "\n",
              "        const docLinkHtml = 'Like what you see? Visit the ' +\n",
              "          '<a target=\"_blank\" href=https://colab.research.google.com/notebooks/data_table.ipynb>data table notebook</a>'\n",
              "          + ' to learn more about interactive tables.';\n",
              "        element.innerHTML = '';\n",
              "        dataTable['output_type'] = 'display_data';\n",
              "        await google.colab.output.renderOutput(dataTable, element);\n",
              "        const docLink = document.createElement('div');\n",
              "        docLink.innerHTML = docLinkHtml;\n",
              "        element.appendChild(docLink);\n",
              "      }\n",
              "    </script>\n",
              "  </div>\n",
              "\n",
              "\n",
              "<div id=\"df-f8268ccb-4454-49c6-86a8-ee20d92ef0ae\">\n",
              "  <button class=\"colab-df-quickchart\" onclick=\"quickchart('df-f8268ccb-4454-49c6-86a8-ee20d92ef0ae')\"\n",
              "            title=\"Suggest charts\"\n",
              "            style=\"display:none;\">\n",
              "\n",
              "<svg xmlns=\"http://www.w3.org/2000/svg\" height=\"24px\"viewBox=\"0 0 24 24\"\n",
              "     width=\"24px\">\n",
              "    <g>\n",
              "        <path d=\"M19 3H5c-1.1 0-2 .9-2 2v14c0 1.1.9 2 2 2h14c1.1 0 2-.9 2-2V5c0-1.1-.9-2-2-2zM9 17H7v-7h2v7zm4 0h-2V7h2v10zm4 0h-2v-4h2v4z\"/>\n",
              "    </g>\n",
              "</svg>\n",
              "  </button>\n",
              "\n",
              "<style>\n",
              "  .colab-df-quickchart {\n",
              "      --bg-color: #E8F0FE;\n",
              "      --fill-color: #1967D2;\n",
              "      --hover-bg-color: #E2EBFA;\n",
              "      --hover-fill-color: #174EA6;\n",
              "      --disabled-fill-color: #AAA;\n",
              "      --disabled-bg-color: #DDD;\n",
              "  }\n",
              "\n",
              "  [theme=dark] .colab-df-quickchart {\n",
              "      --bg-color: #3B4455;\n",
              "      --fill-color: #D2E3FC;\n",
              "      --hover-bg-color: #434B5C;\n",
              "      --hover-fill-color: #FFFFFF;\n",
              "      --disabled-bg-color: #3B4455;\n",
              "      --disabled-fill-color: #666;\n",
              "  }\n",
              "\n",
              "  .colab-df-quickchart {\n",
              "    background-color: var(--bg-color);\n",
              "    border: none;\n",
              "    border-radius: 50%;\n",
              "    cursor: pointer;\n",
              "    display: none;\n",
              "    fill: var(--fill-color);\n",
              "    height: 32px;\n",
              "    padding: 0;\n",
              "    width: 32px;\n",
              "  }\n",
              "\n",
              "  .colab-df-quickchart:hover {\n",
              "    background-color: var(--hover-bg-color);\n",
              "    box-shadow: 0 1px 2px rgba(60, 64, 67, 0.3), 0 1px 3px 1px rgba(60, 64, 67, 0.15);\n",
              "    fill: var(--button-hover-fill-color);\n",
              "  }\n",
              "\n",
              "  .colab-df-quickchart-complete:disabled,\n",
              "  .colab-df-quickchart-complete:disabled:hover {\n",
              "    background-color: var(--disabled-bg-color);\n",
              "    fill: var(--disabled-fill-color);\n",
              "    box-shadow: none;\n",
              "  }\n",
              "\n",
              "  .colab-df-spinner {\n",
              "    border: 2px solid var(--fill-color);\n",
              "    border-color: transparent;\n",
              "    border-bottom-color: var(--fill-color);\n",
              "    animation:\n",
              "      spin 1s steps(1) infinite;\n",
              "  }\n",
              "\n",
              "  @keyframes spin {\n",
              "    0% {\n",
              "      border-color: transparent;\n",
              "      border-bottom-color: var(--fill-color);\n",
              "      border-left-color: var(--fill-color);\n",
              "    }\n",
              "    20% {\n",
              "      border-color: transparent;\n",
              "      border-left-color: var(--fill-color);\n",
              "      border-top-color: var(--fill-color);\n",
              "    }\n",
              "    30% {\n",
              "      border-color: transparent;\n",
              "      border-left-color: var(--fill-color);\n",
              "      border-top-color: var(--fill-color);\n",
              "      border-right-color: var(--fill-color);\n",
              "    }\n",
              "    40% {\n",
              "      border-color: transparent;\n",
              "      border-right-color: var(--fill-color);\n",
              "      border-top-color: var(--fill-color);\n",
              "    }\n",
              "    60% {\n",
              "      border-color: transparent;\n",
              "      border-right-color: var(--fill-color);\n",
              "    }\n",
              "    80% {\n",
              "      border-color: transparent;\n",
              "      border-right-color: var(--fill-color);\n",
              "      border-bottom-color: var(--fill-color);\n",
              "    }\n",
              "    90% {\n",
              "      border-color: transparent;\n",
              "      border-bottom-color: var(--fill-color);\n",
              "    }\n",
              "  }\n",
              "</style>\n",
              "\n",
              "  <script>\n",
              "    async function quickchart(key) {\n",
              "      const quickchartButtonEl =\n",
              "        document.querySelector('#' + key + ' button');\n",
              "      quickchartButtonEl.disabled = true;  // To prevent multiple clicks.\n",
              "      quickchartButtonEl.classList.add('colab-df-spinner');\n",
              "      try {\n",
              "        const charts = await google.colab.kernel.invokeFunction(\n",
              "            'suggestCharts', [key], {});\n",
              "      } catch (error) {\n",
              "        console.error('Error during call to suggestCharts:', error);\n",
              "      }\n",
              "      quickchartButtonEl.classList.remove('colab-df-spinner');\n",
              "      quickchartButtonEl.classList.add('colab-df-quickchart-complete');\n",
              "    }\n",
              "    (() => {\n",
              "      let quickchartButtonEl =\n",
              "        document.querySelector('#df-f8268ccb-4454-49c6-86a8-ee20d92ef0ae button');\n",
              "      quickchartButtonEl.style.display =\n",
              "        google.colab.kernel.accessAllowed ? 'block' : 'none';\n",
              "    })();\n",
              "  </script>\n",
              "</div>\n",
              "    </div>\n",
              "  </div>\n"
            ],
            "application/vnd.google.colaboratory.intrinsic+json": {
              "type": "dataframe",
              "variable_name": "data",
              "summary": "{\n  \"name\": \"data\",\n  \"rows\": 2380,\n  \"fields\": [\n    {\n      \"column\": \"user_id\",\n      \"properties\": {\n        \"dtype\": \"number\",\n        \"std\": 687,\n        \"min\": 0,\n        \"max\": 2379,\n        \"num_unique_values\": 2380,\n        \"samples\": [\n          1413,\n          2168,\n          2002\n        ],\n        \"semantic_type\": \"\",\n        \"description\": \"\"\n      }\n    },\n    {\n      \"column\": \"actual\",\n      \"properties\": {\n        \"dtype\": \"object\",\n        \"semantic_type\": \"\",\n        \"description\": \"\"\n      }\n    },\n    {\n      \"column\": \"predicted\",\n      \"properties\": {\n        \"dtype\": \"object\",\n        \"semantic_type\": \"\",\n        \"description\": \"\"\n      }\n    },\n    {\n      \"column\": \"rank\",\n      \"properties\": {\n        \"dtype\": \"number\",\n        \"std\": 25,\n        \"min\": 0,\n        \"max\": 100,\n        \"num_unique_values\": 101,\n        \"samples\": [\n          21,\n          12,\n          45\n        ],\n        \"semantic_type\": \"\",\n        \"description\": \"\"\n      }\n    }\n  ]\n}"
            }
          },
          "metadata": {},
          "execution_count": 44
        }
      ]
    },
    {
      "cell_type": "code",
      "source": [
        "act = data.actual.values.tolist() #2380\n",
        "pred = data.predicted.values.tolist()"
      ],
      "metadata": {
        "id": "a6nC1gjonvUW"
      },
      "execution_count": 45,
      "outputs": []
    },
    {
      "cell_type": "code",
      "source": [
        "#Посмотрим на метрики hit (доля пользователей, где есть хотя бы одно попадание actual в predicted)@10, @20 [0,1]\n",
        "#mark()@10, @20 [0,1]\n",
        "#mapk()@10, @20 [0,1]\n",
        "#ndcg()@10, @20 [0,1]"
      ],
      "metadata": {
        "id": "Uw2Oop1OPRtd"
      },
      "execution_count": null,
      "outputs": []
    },
    {
      "cell_type": "code",
      "execution_count": 121,
      "metadata": {
        "id": "YZGDdSUMUcah"
      },
      "outputs": [],
      "source": [
        "def _ark(actual, predicted, k) -> float:\n",
        "    \"\"\"\n",
        "    Computes the average recall at k.\n",
        "    Parameters\n",
        "    ----------\n",
        "    actual : list\n",
        "        A list of actual items to be predicted\n",
        "    predicted : list\n",
        "        An ordered list of predicted items\n",
        "    k : int, default = 10\n",
        "        Number of predictions to consider\n",
        "    Returns:\n",
        "    -------\n",
        "    score : float\n",
        "        The average recall at k.\n",
        "    \"\"\"\n",
        "    if len(predicted)>k:\n",
        "        predicted = predicted[:k]\n",
        "\n",
        "    score = 0.0\n",
        "    num_hits = 0.0\n",
        "\n",
        "    for i,p in enumerate(predicted):\n",
        "        if p in actual and p not in predicted[:i]:\n",
        "            num_hits += 1.0\n",
        "            score += num_hits / (i+1.0)\n",
        "\n",
        "    if not actual:\n",
        "        return 0.0\n",
        "\n",
        "    return score / len(actual)\n",
        "\n",
        "\n",
        "def _apk(actual, predicted, k) -> float:\n",
        "    \"\"\"\n",
        "    Computes the average precision at k.\n",
        "    Parameters\n",
        "    ----------\n",
        "    actual : list\n",
        "        A list of actual items to be predicted\n",
        "    predicted : list\n",
        "        An ordered list of predicted items\n",
        "    k : int, default = 10\n",
        "        Number of predictions to consider\n",
        "    Returns:\n",
        "    -------\n",
        "    score : float\n",
        "        The average precision at k.\n",
        "    \"\"\"\n",
        "    if not predicted or not actual:\n",
        "        return 0.0\n",
        "\n",
        "    if len(predicted) > k:\n",
        "        predicted = predicted[:k]\n",
        "\n",
        "    score = 0.0\n",
        "    true_positives = 0.0\n",
        "\n",
        "    for i, p in enumerate(predicted):\n",
        "        if p in actual and p not in predicted[:i]:\n",
        "            max_ix = min(i + 1, len(predicted))\n",
        "            score += _precision(predicted[:max_ix], actual)\n",
        "            true_positives += 1\n",
        "\n",
        "    if score == 0.0:\n",
        "        return 0.0\n",
        "\n",
        "    return score / true_positives\n",
        "\n",
        "def mark(actual, predicted, k) -> float:\n",
        "    \"\"\"\n",
        "    Computes the mean average recall at k.\n",
        "    Parameters\n",
        "    ----------\n",
        "    actual : a list of lists\n",
        "        Actual items to be predicted\n",
        "        example: [['A', 'B', 'X'], ['A', 'B', 'Y']]\n",
        "    predicted : a list of lists\n",
        "        Ordered predictions\n",
        "        example: [['X', 'Y', 'Z'], ['X', 'Y', 'Z']]\n",
        "    Returns:\n",
        "    -------\n",
        "        mark: float\n",
        "            The mean average recall at k (mar@k)\n",
        "    \"\"\"\n",
        "    if len(actual) != len(predicted):\n",
        "        raise AssertionError(\"Length mismatched\")\n",
        "\n",
        "    return np.mean([_ark(a,p,k) for a,p in zip(actual, predicted)])\n",
        "\n",
        "def mapk(actual, predicted, k) -> float:\n",
        "    \"\"\"\n",
        "    Computes the mean average precision at k.\n",
        "    Parameters\n",
        "    ----------\n",
        "    actual : a list of lists\n",
        "        Actual items to be predicted\n",
        "        example: [['A', 'B', 'X'], ['A', 'B', 'Y']]\n",
        "    predicted : a list of lists\n",
        "        Ordered predictions\n",
        "        example: [['X', 'Y', 'Z'], ['X', 'Y', 'Z']]\n",
        "    Returns:\n",
        "    -------\n",
        "        mark: float\n",
        "            The mean average precision at k (map@k)\n",
        "    \"\"\"\n",
        "    if len(actual) != len(predicted):\n",
        "        raise AssertionError(\"Length mismatched\")\n",
        "\n",
        "    return np.mean([_apk(a,p,k) for a,p in zip(actual, predicted)])\n",
        "\n",
        "def _precision(predicted, actual):\n",
        "    prec = [value for value in predicted if value in actual]\n",
        "    prec = float(len(prec)) / float(len(predicted))\n",
        "    return prec"
      ]
    },
    {
      "cell_type": "code",
      "source": [
        "def hit_k(rank, k):\n",
        "  num_hit = 0\n",
        "  for r in rank:\n",
        "    if r<k:\n",
        "      num_hit +=1\n",
        "  score = num_hit/len(rank)\n",
        "  return score"
      ],
      "metadata": {
        "id": "BUepYx-uDuoy"
      },
      "execution_count": 69,
      "outputs": []
    },
    {
      "cell_type": "code",
      "source": [
        "def ndcg_k(rank, k):\n",
        "  ndcg = 0\n",
        "  for r in rank:\n",
        "    if r<k:\n",
        "      ndcg += 1 / np.log2(r + 2)\n",
        "  score1 = ndcg/len(rank)\n",
        "  return score1"
      ],
      "metadata": {
        "id": "h8-4xXxHTFON"
      },
      "execution_count": 70,
      "outputs": []
    },
    {
      "cell_type": "code",
      "source": [
        "mark10 = mark(act, pred, 10)"
      ],
      "metadata": {
        "id": "58fw1LTsirOo"
      },
      "execution_count": 71,
      "outputs": []
    },
    {
      "cell_type": "code",
      "source": [
        "mark10"
      ],
      "metadata": {
        "colab": {
          "base_uri": "https://localhost:8080/"
        },
        "id": "9YJrVfx4m8PZ",
        "outputId": "91985f6e-3eef-4120-8283-c23de7672953"
      },
      "execution_count": 72,
      "outputs": [
        {
          "output_type": "execute_result",
          "data": {
            "text/plain": [
              "0.14175053354675204"
            ]
          },
          "metadata": {},
          "execution_count": 72
        }
      ]
    },
    {
      "cell_type": "code",
      "source": [
        "mark_list = []\n",
        "for K in np.arange(1, 21):\n",
        "    mark_k = mark(act, pred, K)\n",
        "    mark_list.append(mark_k)\n",
        "mark_list"
      ],
      "metadata": {
        "colab": {
          "base_uri": "https://localhost:8080/"
        },
        "id": "slcEO2cThCXj",
        "outputId": "35bcf55a-28aa-4b6d-85e2-ebad9a68d5c7"
      },
      "execution_count": 73,
      "outputs": [
        {
          "output_type": "execute_result",
          "data": {
            "text/plain": [
              "[0.07436974789915966,\n",
              " 0.09789915966386555,\n",
              " 0.11050420168067226,\n",
              " 0.11985294117647059,\n",
              " 0.12573529411764706,\n",
              " 0.1298669467787115,\n",
              " 0.13376850740296117,\n",
              " 0.13749749899959982,\n",
              " 0.14011187808456715,\n",
              " 0.14175053354675204,\n",
              " 0.14381317678586586,\n",
              " 0.1453888070379667,\n",
              " 0.14674627310131513,\n",
              " 0.1481568373270054,\n",
              " 0.1493333079152407,\n",
              " 0.15048877010011466,\n",
              " 0.15142796930921004,\n",
              " 0.1523383334548683,\n",
              " 0.15300175671891075,\n",
              " 0.15371604243319648]"
            ]
          },
          "metadata": {},
          "execution_count": 73
        }
      ]
    },
    {
      "cell_type": "code",
      "source": [
        "mapk_list = []"
      ],
      "metadata": {
        "id": "O0oaz-ygtXco"
      },
      "execution_count": 122,
      "outputs": []
    },
    {
      "cell_type": "code",
      "source": [
        "for k in np.arange(1, 21):\n",
        "    mapk_k = mapk(act, pred, k)\n",
        "    mapk_list.append(mapk_k)"
      ],
      "metadata": {
        "id": "Diqp6Ce-hVSB"
      },
      "execution_count": 123,
      "outputs": []
    },
    {
      "cell_type": "code",
      "source": [
        "mapk_list"
      ],
      "metadata": {
        "colab": {
          "base_uri": "https://localhost:8080/"
        },
        "id": "Kq3pA2xAta1J",
        "outputId": "e9d12c7c-6723-4575-866a-9250a8d063d8"
      },
      "execution_count": 124,
      "outputs": [
        {
          "output_type": "execute_result",
          "data": {
            "text/plain": [
              "[0.07436974789915966,\n",
              " 0.09789915966386555,\n",
              " 0.11050420168067226,\n",
              " 0.11985294117647059,\n",
              " 0.12573529411764706,\n",
              " 0.1298669467787115,\n",
              " 0.13376850740296117,\n",
              " 0.13749749899959982,\n",
              " 0.14011187808456715,\n",
              " 0.14175053354675204,\n",
              " 0.14381317678586586,\n",
              " 0.1453888070379667,\n",
              " 0.14674627310131513,\n",
              " 0.1481568373270054,\n",
              " 0.1493333079152407,\n",
              " 0.15048877010011466,\n",
              " 0.15142796930921004,\n",
              " 0.1523383334548683,\n",
              " 0.15300175671891075,\n",
              " 0.15371604243319648]"
            ]
          },
          "metadata": {},
          "execution_count": 124
        }
      ]
    },
    {
      "cell_type": "code",
      "source": [
        "hit_list = []\n",
        "for K in np.arange(1, 21):\n",
        "    hitk = hit_k(data['rank'], K)\n",
        "    hit_list.append(hitk)\n",
        "hit_list"
      ],
      "metadata": {
        "colab": {
          "base_uri": "https://localhost:8080/"
        },
        "id": "h0WKSh4ghy04",
        "outputId": "e6e932df-4199-4699-9ea2-b2fe7795a5e9"
      },
      "execution_count": 76,
      "outputs": [
        {
          "output_type": "execute_result",
          "data": {
            "text/plain": [
              "[0.07436974789915966,\n",
              " 0.12142857142857143,\n",
              " 0.15924369747899159,\n",
              " 0.19663865546218487,\n",
              " 0.22605042016806723,\n",
              " 0.2508403361344538,\n",
              " 0.2781512605042017,\n",
              " 0.30798319327731094,\n",
              " 0.3315126050420168,\n",
              " 0.34789915966386553,\n",
              " 0.37058823529411766,\n",
              " 0.38949579831932774,\n",
              " 0.40714285714285714,\n",
              " 0.426890756302521,\n",
              " 0.4445378151260504,\n",
              " 0.46302521008403363,\n",
              " 0.4789915966386555,\n",
              " 0.4953781512605042,\n",
              " 0.5079831932773109,\n",
              " 0.5222689075630252]"
            ]
          },
          "metadata": {},
          "execution_count": 76
        }
      ]
    },
    {
      "cell_type": "code",
      "source": [
        "ndcg_list = []\n",
        "for K in np.arange(1, 21):\n",
        "    ndcgk = ndcg_k(data['rank'], K)\n",
        "    ndcg_list.append(ndcgk)\n",
        "ndcg_list"
      ],
      "metadata": {
        "colab": {
          "base_uri": "https://localhost:8080/"
        },
        "id": "bPrgAUZRkrG0",
        "outputId": "3f12f1b7-21be-431d-8ba1-ae370d86d414"
      },
      "execution_count": 77,
      "outputs": [
        {
          "output_type": "execute_result",
          "data": {
            "text/plain": [
              "[0.07436974789915966,\n",
              " 0.1040605598319339,\n",
              " 0.1229681228571441,\n",
              " 0.13907325465064527,\n",
              " 0.15045127839283778,\n",
              " 0.1592816246278685,\n",
              " 0.16838526608445115,\n",
              " 0.17779619308100014,\n",
              " 0.1848792518025053,\n",
              " 0.18961602836821856,\n",
              " 0.19594498595862217,\n",
              " 0.20105453089527314,\n",
              " 0.20568952269004734,\n",
              " 0.2107441559530986,\n",
              " 0.21515592065898095,\n",
              " 0.21967887185780524,\n",
              " 0.22350781039964934,\n",
              " 0.2273653514170019,\n",
              " 0.23028188351565423,\n",
              " 0.23353431563989632]"
            ]
          },
          "metadata": {},
          "execution_count": 77
        }
      ]
    },
    {
      "cell_type": "code",
      "source": [
        "index = range(1,21)"
      ],
      "metadata": {
        "id": "ECN8pWht-wfG"
      },
      "execution_count": 222,
      "outputs": []
    },
    {
      "cell_type": "code",
      "source": [
        "mark_df = pd.DataFrame(np.column_stack((index, mark_list)), columns = ['K','mark'])\n",
        "mapk_df = pd.DataFrame(np.column_stack((index, mapk_list)), columns = ['K','mapk'])\n",
        "hit_df = pd.DataFrame(np.column_stack((index, hit_list)), columns = ['K','hit'])\n",
        "ndcg_df = pd.DataFrame(np.column_stack((index, ndcg_list)), columns = ['K','ndcg'])"
      ],
      "metadata": {
        "id": "AKJr7uKi-5Od"
      },
      "execution_count": 234,
      "outputs": []
    },
    {
      "cell_type": "code",
      "source": [
        "plt.figure(figsize=(15, 7))\n",
        "plt.plot(mark_df['K'], mark_df['mark'],color = 'blue', ls = '--', lw = 3, label = 'MAR@K')\n",
        "plt.plot(mapk_df['K'], mapk_df['mapk'], color = 'red', label = 'MAP@K')\n",
        "plt.plot(hit_df['K'], hit_df['hit'], color = 'magenta', label = 'HIT@K')\n",
        "plt.plot(ndcg_df['K'], ndcg_df['ndcg'], color = 'green', label = 'NDCG@K')\n",
        "\n",
        "plt.xticks(index)\n",
        "plt.legend()\n",
        "plt.xlabel('K')\n",
        "\n",
        "plt.show()"
      ],
      "metadata": {
        "colab": {
          "base_uri": "https://localhost:8080/",
          "height": 619
        },
        "id": "oFSa2_P1peHc",
        "outputId": "3cf69224-6760-4afd-b0c2-28e80b278c65"
      },
      "execution_count": 238,
      "outputs": [
        {
          "output_type": "display_data",
          "data": {
            "text/plain": [
              "<Figure size 1500x700 with 1 Axes>"
            ],
            "image/png": "[encoded data removed]"
          },
          "metadata": {}
        }
      ]
    },
    {
      "cell_type": "markdown",
      "source": [],
      "metadata": {
        "id": "LZHfzhWsE9gQ"
      }
    }
  ],
  "metadata": {
    "colab": {
      "provenance": []
    },
    "kernelspec": {
      "display_name": "Python 3",
      "name": "python3"
    },
    "language_info": {
      "name": "python"
    }
  },
  "nbformat": 4,
  "nbformat_minor": 0
}